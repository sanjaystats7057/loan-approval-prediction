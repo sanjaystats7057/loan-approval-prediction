{
  "cells": [
    {
      "cell_type": "markdown",
      "source": [
        "Loan Approval Prediction using XGBoost (with SMOTE & Hyperparameter Tuning)\n"
      ],
      "metadata": {
        "id": "qRYKHG_CRyhK"
      }
    },
    {
      "cell_type": "markdown",
      "source": [
        "Problem Statement"
      ],
      "metadata": {
        "id": "oHjgt1NbSGvG"
      }
    },
    {
      "cell_type": "markdown",
      "source": [
        "Financial institutions need robust systems to assess the creditworthiness of loan applicants. The goal of this project is to develop a machine learning model that can accurately predict whether a loan application should be approved or not, based on various customer financial attributes such as income, credit score, expenses, loan purpose, and employment details.\n",
        "\n",
        "The dataset contains over 1 million records, with an imbalanced distribution of approved and not approved loans. The project involves handling class imbalance using SMOTE, selecting the most important features, building an XGBoost classifier, tuning its hyperparameters, and evaluating its performance using metrics like accuracy, AUC, and precision-recall"
      ],
      "metadata": {
        "id": "DaW7CSTASOUP"
      }
    },
    {
      "cell_type": "code",
      "execution_count": null,
      "metadata": {
        "colab": {
          "base_uri": "https://localhost:8080/"
        },
        "id": "xkEnd4BKm4Xd",
        "outputId": "026054b4-0963-42b6-aa4d-5acb171e51a8"
      },
      "outputs": [
        {
          "output_type": "stream",
          "name": "stdout",
          "text": [
            "Mounted at /content/drive\n"
          ]
        }
      ],
      "source": [
        "from google.colab import drive\n",
        "drive.mount('/content/drive',force_remount=True)"
      ]
    },
    {
      "cell_type": "code",
      "execution_count": null,
      "metadata": {
        "id": "-yObdaLYi8YQ"
      },
      "outputs": [],
      "source": [
        "import numpy as np\n",
        "import pandas as pd\n",
        "import matplotlib.pyplot as plt\n",
        "import seaborn as sns\n",
        "from sklearn.model_selection import train_test_split\n",
        "from sklearn.ensemble import RandomForestClassifier\n",
        "from sklearn.metrics import confusion_matrix, accuracy_score, classification_report\n",
        "import warnings\n",
        "warnings.filterwarnings('ignore')"
      ]
    },
    {
      "cell_type": "code",
      "execution_count": null,
      "metadata": {
        "id": "o5N0AGFzjS8G"
      },
      "outputs": [],
      "source": [
        "df=pd.read_csv('/content/financial_risk_analysis_large.csv')\n"
      ]
    },
    {
      "cell_type": "markdown",
      "source": [
        "Data Cleaning"
      ],
      "metadata": {
        "id": "kYS2gipCHrBZ"
      }
    },
    {
      "cell_type": "code",
      "execution_count": null,
      "metadata": {
        "colab": {
          "base_uri": "https://localhost:8080/"
        },
        "id": "y-m5EQRHqlRm",
        "outputId": "51495599-03f1-4270-b8c5-840d9a4682c3"
      },
      "outputs": [
        {
          "output_type": "execute_result",
          "data": {
            "text/plain": [
              "(1000000, 51)"
            ]
          },
          "metadata": {},
          "execution_count": 6
        }
      ],
      "source": [
        "df.shape"
      ]
    },
    {
      "cell_type": "code",
      "execution_count": null,
      "metadata": {
        "id": "qHVRo9IJjSrZ"
      },
      "outputs": [],
      "source": [
        "drop_columns = [\n",
        "    'StudentLoanBalance', 'AutoLoanBalance', 'PersonalLoanBalance',\n",
        "    'UtilityBillsPaymentHistory',\n",
        "    'HealthInsuranceStatus', 'LifeInsuranceStatus', 'CarInsuranceStatus',\n",
        "    'HomeInsuranceStatus', 'OtherInsurancePolicies',\n",
        "    'InvestmentAccountBalance', 'RetirementAccountBalance'\n",
        "]\n",
        "df = df.drop(columns=[col for col in drop_columns if col in df.columns])\n"
      ]
    },
    {
      "cell_type": "code",
      "execution_count": null,
      "metadata": {
        "colab": {
          "base_uri": "https://localhost:8080/"
        },
        "id": "zajXSM-ajSl0",
        "outputId": "aca3613d-a21b-4150-81fa-725a66e0c17c"
      },
      "outputs": [
        {
          "output_type": "stream",
          "name": "stdout",
          "text": [
            "<class 'pandas.core.frame.DataFrame'>\n",
            "RangeIndex: 1000000 entries, 0 to 999999\n",
            "Data columns (total 40 columns):\n",
            " #   Column                      Non-Null Count    Dtype  \n",
            "---  ------                      --------------    -----  \n",
            " 0   CreditScore                 1000000 non-null  int64  \n",
            " 1   AnnualIncome                1000000 non-null  int64  \n",
            " 2   LoanAmount                  1000000 non-null  int64  \n",
            " 3   LoanDuration                1000000 non-null  int64  \n",
            " 4   Age                         1000000 non-null  int64  \n",
            " 5   EmploymentStatus            1000000 non-null  object \n",
            " 6   MaritalStatus               1000000 non-null  object \n",
            " 7   NumberOfDependents          1000000 non-null  int64  \n",
            " 8   EducationLevel              1000000 non-null  object \n",
            " 9   HomeOwnershipStatus         1000000 non-null  object \n",
            " 10  MonthlyDebtPayments         1000000 non-null  int64  \n",
            " 11  CreditCardUtilizationRate   1000000 non-null  float64\n",
            " 12  NumberOfOpenCreditLines     1000000 non-null  int64  \n",
            " 13  NumberOfCreditInquiries     1000000 non-null  int64  \n",
            " 14  DebtToIncomeRatio           1000000 non-null  float64\n",
            " 15  BankruptcyHistory           1000000 non-null  int64  \n",
            " 16  LoanPurpose                 1000000 non-null  object \n",
            " 17  PreviousLoanDefaults        1000000 non-null  int64  \n",
            " 18  InterestRate                1000000 non-null  float64\n",
            " 19  PaymentHistory              1000000 non-null  int64  \n",
            " 20  SavingsAccountBalance       1000000 non-null  int64  \n",
            " 21  CheckingAccountBalance      1000000 non-null  int64  \n",
            " 22  EmergencyFundBalance        1000000 non-null  int64  \n",
            " 23  TotalAssets                 1000000 non-null  int64  \n",
            " 24  TotalLiabilities            1000000 non-null  int64  \n",
            " 25  NetWorth                    1000000 non-null  int64  \n",
            " 26  LengthOfCreditHistory       1000000 non-null  int64  \n",
            " 27  MortgageBalance             1000000 non-null  int64  \n",
            " 28  RentPayments                1000000 non-null  int64  \n",
            " 29  EmployerType                1000000 non-null  object \n",
            " 30  JobTenure                   1000000 non-null  int64  \n",
            " 31  MonthlySavings              1000000 non-null  int64  \n",
            " 32  AnnualBonuses               1000000 non-null  int64  \n",
            " 33  AnnualExpenses              1000000 non-null  int64  \n",
            " 34  MonthlyHousingCosts         1000000 non-null  int64  \n",
            " 35  MonthlyTransportationCosts  1000000 non-null  int64  \n",
            " 36  MonthlyFoodCosts            1000000 non-null  int64  \n",
            " 37  MonthlyHealthcareCosts      1000000 non-null  int64  \n",
            " 38  MonthlyEntertainmentCosts   1000000 non-null  int64  \n",
            " 39  LoanApproved                1000000 non-null  int64  \n",
            "dtypes: float64(3), int64(31), object(6)\n",
            "memory usage: 305.2+ MB\n"
          ]
        }
      ],
      "source": [
        "df.info()"
      ]
    },
    {
      "cell_type": "code",
      "execution_count": null,
      "metadata": {
        "colab": {
          "base_uri": "https://localhost:8080/",
          "height": 350
        },
        "id": "PRJ8gSzDjSGi",
        "outputId": "419ab047-4063-4398-d839-547126843df0"
      },
      "outputs": [
        {
          "output_type": "execute_result",
          "data": {
            "text/plain": [
              "          CreditScore    AnnualIncome      LoanAmount    LoanDuration  \\\n",
              "count  1000000.000000  1000000.000000  1000000.000000  1000000.000000   \n",
              "mean       574.559628    59971.227298    20001.643495       15.014402   \n",
              "std        158.774753    15013.989902     5000.662270        8.363599   \n",
              "min        300.000000    -9666.000000    -4900.000000        1.000000   \n",
              "25%        437.000000    49855.000000    16630.000000        8.000000   \n",
              "50%        574.000000    59973.000000    20006.000000       15.000000   \n",
              "75%        712.000000    70080.000000    23376.000000       22.000000   \n",
              "max        849.000000   132414.000000    44921.000000       29.000000   \n",
              "\n",
              "                  Age  NumberOfDependents  MonthlyDebtPayments  \\\n",
              "count  1000000.000000      1000000.000000       1000000.000000   \n",
              "mean        43.497517            1.999334           499.712597   \n",
              "std         15.005348            1.415219           199.942646   \n",
              "min         18.000000            0.000000          -539.000000   \n",
              "25%         30.000000            1.000000           365.000000   \n",
              "50%         43.000000            2.000000           499.000000   \n",
              "75%         56.000000            3.000000           635.000000   \n",
              "max         69.000000            4.000000          1504.000000   \n",
              "\n",
              "       CreditCardUtilizationRate  NumberOfOpenCreditLines  \\\n",
              "count               1.000000e+06           1000000.000000   \n",
              "mean                4.999768e-01                 7.005118   \n",
              "std                 2.885894e-01                 4.318280   \n",
              "min                 5.038985e-07                 0.000000   \n",
              "25%                 2.500684e-01                 3.000000   \n",
              "50%                 5.003170e-01                 7.000000   \n",
              "75%                 7.497447e-01                11.000000   \n",
              "max                 9.999982e-01                14.000000   \n",
              "\n",
              "       NumberOfCreditInquiries  ...       JobTenure  MonthlySavings  \\\n",
              "count           1000000.000000  ...  1000000.000000  1000000.000000   \n",
              "mean                  4.501799  ...       19.500790      499.097705   \n",
              "std                   2.872479  ...       11.541492      299.700808   \n",
              "min                   0.000000  ...        0.000000     -937.000000   \n",
              "25%                   2.000000  ...       10.000000      297.000000   \n",
              "50%                   5.000000  ...       20.000000      499.000000   \n",
              "75%                   7.000000  ...       29.000000      701.000000   \n",
              "max                   9.000000  ...       39.000000     2048.000000   \n",
              "\n",
              "        AnnualBonuses  AnnualExpenses  MonthlyHousingCosts  \\\n",
              "count  1000000.000000  1000000.000000       1000000.000000   \n",
              "mean      4999.802337    29990.070722           999.821493   \n",
              "std       1999.559754     9994.979331           400.084107   \n",
              "min      -3934.000000   -18396.000000         -1093.000000   \n",
              "25%       3650.000000    23246.000000           730.000000   \n",
              "50%       4999.000000    29998.000000          1000.000000   \n",
              "75%       6348.000000    36736.000000          1270.000000   \n",
              "max      14312.000000    79463.000000          2846.000000   \n",
              "\n",
              "       MonthlyTransportationCosts  MonthlyFoodCosts  MonthlyHealthcareCosts  \\\n",
              "count              1000000.000000    1000000.000000          1000000.000000   \n",
              "mean                   299.567663        399.724339              199.424883   \n",
              "std                    149.851337        199.959738               99.921983   \n",
              "min                   -399.000000       -543.000000             -353.000000   \n",
              "25%                    198.000000        265.000000              132.000000   \n",
              "50%                    299.000000        400.000000              199.000000   \n",
              "75%                    401.000000        535.000000              267.000000   \n",
              "max                   1024.000000       1363.000000              670.000000   \n",
              "\n",
              "       MonthlyEntertainmentCosts    LoanApproved  \n",
              "count             1000000.000000  1000000.000000  \n",
              "mean                   99.458080        0.373169  \n",
              "std                    49.931612        0.483647  \n",
              "min                  -123.000000        0.000000  \n",
              "25%                    66.000000        0.000000  \n",
              "50%                    99.000000        0.000000  \n",
              "75%                   133.000000        1.000000  \n",
              "max                   326.000000        1.000000  \n",
              "\n",
              "[8 rows x 34 columns]"
            ],
            "text/html": [
              "\n",
              "  <div id=\"df-f891d0f3-2ebf-401e-b9ac-2c860a565628\" class=\"colab-df-container\">\n",
              "    <div>\n",
              "<style scoped>\n",
              "    .dataframe tbody tr th:only-of-type {\n",
              "        vertical-align: middle;\n",
              "    }\n",
              "\n",
              "    .dataframe tbody tr th {\n",
              "        vertical-align: top;\n",
              "    }\n",
              "\n",
              "    .dataframe thead th {\n",
              "        text-align: right;\n",
              "    }\n",
              "</style>\n",
              "<table border=\"1\" class=\"dataframe\">\n",
              "  <thead>\n",
              "    <tr style=\"text-align: right;\">\n",
              "      <th></th>\n",
              "      <th>CreditScore</th>\n",
              "      <th>AnnualIncome</th>\n",
              "      <th>LoanAmount</th>\n",
              "      <th>LoanDuration</th>\n",
              "      <th>Age</th>\n",
              "      <th>NumberOfDependents</th>\n",
              "      <th>MonthlyDebtPayments</th>\n",
              "      <th>CreditCardUtilizationRate</th>\n",
              "      <th>NumberOfOpenCreditLines</th>\n",
              "      <th>NumberOfCreditInquiries</th>\n",
              "      <th>...</th>\n",
              "      <th>JobTenure</th>\n",
              "      <th>MonthlySavings</th>\n",
              "      <th>AnnualBonuses</th>\n",
              "      <th>AnnualExpenses</th>\n",
              "      <th>MonthlyHousingCosts</th>\n",
              "      <th>MonthlyTransportationCosts</th>\n",
              "      <th>MonthlyFoodCosts</th>\n",
              "      <th>MonthlyHealthcareCosts</th>\n",
              "      <th>MonthlyEntertainmentCosts</th>\n",
              "      <th>LoanApproved</th>\n",
              "    </tr>\n",
              "  </thead>\n",
              "  <tbody>\n",
              "    <tr>\n",
              "      <th>count</th>\n",
              "      <td>1000000.000000</td>\n",
              "      <td>1000000.000000</td>\n",
              "      <td>1000000.000000</td>\n",
              "      <td>1000000.000000</td>\n",
              "      <td>1000000.000000</td>\n",
              "      <td>1000000.000000</td>\n",
              "      <td>1000000.000000</td>\n",
              "      <td>1.000000e+06</td>\n",
              "      <td>1000000.000000</td>\n",
              "      <td>1000000.000000</td>\n",
              "      <td>...</td>\n",
              "      <td>1000000.000000</td>\n",
              "      <td>1000000.000000</td>\n",
              "      <td>1000000.000000</td>\n",
              "      <td>1000000.000000</td>\n",
              "      <td>1000000.000000</td>\n",
              "      <td>1000000.000000</td>\n",
              "      <td>1000000.000000</td>\n",
              "      <td>1000000.000000</td>\n",
              "      <td>1000000.000000</td>\n",
              "      <td>1000000.000000</td>\n",
              "    </tr>\n",
              "    <tr>\n",
              "      <th>mean</th>\n",
              "      <td>574.559628</td>\n",
              "      <td>59971.227298</td>\n",
              "      <td>20001.643495</td>\n",
              "      <td>15.014402</td>\n",
              "      <td>43.497517</td>\n",
              "      <td>1.999334</td>\n",
              "      <td>499.712597</td>\n",
              "      <td>4.999768e-01</td>\n",
              "      <td>7.005118</td>\n",
              "      <td>4.501799</td>\n",
              "      <td>...</td>\n",
              "      <td>19.500790</td>\n",
              "      <td>499.097705</td>\n",
              "      <td>4999.802337</td>\n",
              "      <td>29990.070722</td>\n",
              "      <td>999.821493</td>\n",
              "      <td>299.567663</td>\n",
              "      <td>399.724339</td>\n",
              "      <td>199.424883</td>\n",
              "      <td>99.458080</td>\n",
              "      <td>0.373169</td>\n",
              "    </tr>\n",
              "    <tr>\n",
              "      <th>std</th>\n",
              "      <td>158.774753</td>\n",
              "      <td>15013.989902</td>\n",
              "      <td>5000.662270</td>\n",
              "      <td>8.363599</td>\n",
              "      <td>15.005348</td>\n",
              "      <td>1.415219</td>\n",
              "      <td>199.942646</td>\n",
              "      <td>2.885894e-01</td>\n",
              "      <td>4.318280</td>\n",
              "      <td>2.872479</td>\n",
              "      <td>...</td>\n",
              "      <td>11.541492</td>\n",
              "      <td>299.700808</td>\n",
              "      <td>1999.559754</td>\n",
              "      <td>9994.979331</td>\n",
              "      <td>400.084107</td>\n",
              "      <td>149.851337</td>\n",
              "      <td>199.959738</td>\n",
              "      <td>99.921983</td>\n",
              "      <td>49.931612</td>\n",
              "      <td>0.483647</td>\n",
              "    </tr>\n",
              "    <tr>\n",
              "      <th>min</th>\n",
              "      <td>300.000000</td>\n",
              "      <td>-9666.000000</td>\n",
              "      <td>-4900.000000</td>\n",
              "      <td>1.000000</td>\n",
              "      <td>18.000000</td>\n",
              "      <td>0.000000</td>\n",
              "      <td>-539.000000</td>\n",
              "      <td>5.038985e-07</td>\n",
              "      <td>0.000000</td>\n",
              "      <td>0.000000</td>\n",
              "      <td>...</td>\n",
              "      <td>0.000000</td>\n",
              "      <td>-937.000000</td>\n",
              "      <td>-3934.000000</td>\n",
              "      <td>-18396.000000</td>\n",
              "      <td>-1093.000000</td>\n",
              "      <td>-399.000000</td>\n",
              "      <td>-543.000000</td>\n",
              "      <td>-353.000000</td>\n",
              "      <td>-123.000000</td>\n",
              "      <td>0.000000</td>\n",
              "    </tr>\n",
              "    <tr>\n",
              "      <th>25%</th>\n",
              "      <td>437.000000</td>\n",
              "      <td>49855.000000</td>\n",
              "      <td>16630.000000</td>\n",
              "      <td>8.000000</td>\n",
              "      <td>30.000000</td>\n",
              "      <td>1.000000</td>\n",
              "      <td>365.000000</td>\n",
              "      <td>2.500684e-01</td>\n",
              "      <td>3.000000</td>\n",
              "      <td>2.000000</td>\n",
              "      <td>...</td>\n",
              "      <td>10.000000</td>\n",
              "      <td>297.000000</td>\n",
              "      <td>3650.000000</td>\n",
              "      <td>23246.000000</td>\n",
              "      <td>730.000000</td>\n",
              "      <td>198.000000</td>\n",
              "      <td>265.000000</td>\n",
              "      <td>132.000000</td>\n",
              "      <td>66.000000</td>\n",
              "      <td>0.000000</td>\n",
              "    </tr>\n",
              "    <tr>\n",
              "      <th>50%</th>\n",
              "      <td>574.000000</td>\n",
              "      <td>59973.000000</td>\n",
              "      <td>20006.000000</td>\n",
              "      <td>15.000000</td>\n",
              "      <td>43.000000</td>\n",
              "      <td>2.000000</td>\n",
              "      <td>499.000000</td>\n",
              "      <td>5.003170e-01</td>\n",
              "      <td>7.000000</td>\n",
              "      <td>5.000000</td>\n",
              "      <td>...</td>\n",
              "      <td>20.000000</td>\n",
              "      <td>499.000000</td>\n",
              "      <td>4999.000000</td>\n",
              "      <td>29998.000000</td>\n",
              "      <td>1000.000000</td>\n",
              "      <td>299.000000</td>\n",
              "      <td>400.000000</td>\n",
              "      <td>199.000000</td>\n",
              "      <td>99.000000</td>\n",
              "      <td>0.000000</td>\n",
              "    </tr>\n",
              "    <tr>\n",
              "      <th>75%</th>\n",
              "      <td>712.000000</td>\n",
              "      <td>70080.000000</td>\n",
              "      <td>23376.000000</td>\n",
              "      <td>22.000000</td>\n",
              "      <td>56.000000</td>\n",
              "      <td>3.000000</td>\n",
              "      <td>635.000000</td>\n",
              "      <td>7.497447e-01</td>\n",
              "      <td>11.000000</td>\n",
              "      <td>7.000000</td>\n",
              "      <td>...</td>\n",
              "      <td>29.000000</td>\n",
              "      <td>701.000000</td>\n",
              "      <td>6348.000000</td>\n",
              "      <td>36736.000000</td>\n",
              "      <td>1270.000000</td>\n",
              "      <td>401.000000</td>\n",
              "      <td>535.000000</td>\n",
              "      <td>267.000000</td>\n",
              "      <td>133.000000</td>\n",
              "      <td>1.000000</td>\n",
              "    </tr>\n",
              "    <tr>\n",
              "      <th>max</th>\n",
              "      <td>849.000000</td>\n",
              "      <td>132414.000000</td>\n",
              "      <td>44921.000000</td>\n",
              "      <td>29.000000</td>\n",
              "      <td>69.000000</td>\n",
              "      <td>4.000000</td>\n",
              "      <td>1504.000000</td>\n",
              "      <td>9.999982e-01</td>\n",
              "      <td>14.000000</td>\n",
              "      <td>9.000000</td>\n",
              "      <td>...</td>\n",
              "      <td>39.000000</td>\n",
              "      <td>2048.000000</td>\n",
              "      <td>14312.000000</td>\n",
              "      <td>79463.000000</td>\n",
              "      <td>2846.000000</td>\n",
              "      <td>1024.000000</td>\n",
              "      <td>1363.000000</td>\n",
              "      <td>670.000000</td>\n",
              "      <td>326.000000</td>\n",
              "      <td>1.000000</td>\n",
              "    </tr>\n",
              "  </tbody>\n",
              "</table>\n",
              "<p>8 rows × 34 columns</p>\n",
              "</div>\n",
              "    <div class=\"colab-df-buttons\">\n",
              "\n",
              "  <div class=\"colab-df-container\">\n",
              "    <button class=\"colab-df-convert\" onclick=\"convertToInteractive('df-f891d0f3-2ebf-401e-b9ac-2c860a565628')\"\n",
              "            title=\"Convert this dataframe to an interactive table.\"\n",
              "            style=\"display:none;\">\n",
              "\n",
              "  <svg xmlns=\"http://www.w3.org/2000/svg\" height=\"24px\" viewBox=\"0 -960 960 960\">\n",
              "    <path d=\"M120-120v-720h720v720H120Zm60-500h600v-160H180v160Zm220 220h160v-160H400v160Zm0 220h160v-160H400v160ZM180-400h160v-160H180v160Zm440 0h160v-160H620v160ZM180-180h160v-160H180v160Zm440 0h160v-160H620v160Z\"/>\n",
              "  </svg>\n",
              "    </button>\n",
              "\n",
              "  <style>\n",
              "    .colab-df-container {\n",
              "      display:flex;\n",
              "      gap: 12px;\n",
              "    }\n",
              "\n",
              "    .colab-df-convert {\n",
              "      background-color: #E8F0FE;\n",
              "      border: none;\n",
              "      border-radius: 50%;\n",
              "      cursor: pointer;\n",
              "      display: none;\n",
              "      fill: #1967D2;\n",
              "      height: 32px;\n",
              "      padding: 0 0 0 0;\n",
              "      width: 32px;\n",
              "    }\n",
              "\n",
              "    .colab-df-convert:hover {\n",
              "      background-color: #E2EBFA;\n",
              "      box-shadow: 0px 1px 2px rgba(60, 64, 67, 0.3), 0px 1px 3px 1px rgba(60, 64, 67, 0.15);\n",
              "      fill: #174EA6;\n",
              "    }\n",
              "\n",
              "    .colab-df-buttons div {\n",
              "      margin-bottom: 4px;\n",
              "    }\n",
              "\n",
              "    [theme=dark] .colab-df-convert {\n",
              "      background-color: #3B4455;\n",
              "      fill: #D2E3FC;\n",
              "    }\n",
              "\n",
              "    [theme=dark] .colab-df-convert:hover {\n",
              "      background-color: #434B5C;\n",
              "      box-shadow: 0px 1px 3px 1px rgba(0, 0, 0, 0.15);\n",
              "      filter: drop-shadow(0px 1px 2px rgba(0, 0, 0, 0.3));\n",
              "      fill: #FFFFFF;\n",
              "    }\n",
              "  </style>\n",
              "\n",
              "    <script>\n",
              "      const buttonEl =\n",
              "        document.querySelector('#df-f891d0f3-2ebf-401e-b9ac-2c860a565628 button.colab-df-convert');\n",
              "      buttonEl.style.display =\n",
              "        google.colab.kernel.accessAllowed ? 'block' : 'none';\n",
              "\n",
              "      async function convertToInteractive(key) {\n",
              "        const element = document.querySelector('#df-f891d0f3-2ebf-401e-b9ac-2c860a565628');\n",
              "        const dataTable =\n",
              "          await google.colab.kernel.invokeFunction('convertToInteractive',\n",
              "                                                    [key], {});\n",
              "        if (!dataTable) return;\n",
              "\n",
              "        const docLinkHtml = 'Like what you see? Visit the ' +\n",
              "          '<a target=\"_blank\" href=https://colab.research.google.com/notebooks/data_table.ipynb>data table notebook</a>'\n",
              "          + ' to learn more about interactive tables.';\n",
              "        element.innerHTML = '';\n",
              "        dataTable['output_type'] = 'display_data';\n",
              "        await google.colab.output.renderOutput(dataTable, element);\n",
              "        const docLink = document.createElement('div');\n",
              "        docLink.innerHTML = docLinkHtml;\n",
              "        element.appendChild(docLink);\n",
              "      }\n",
              "    </script>\n",
              "  </div>\n",
              "\n",
              "\n",
              "    <div id=\"df-98abefb5-1d24-4548-88b9-6df0eb4ecb6b\">\n",
              "      <button class=\"colab-df-quickchart\" onclick=\"quickchart('df-98abefb5-1d24-4548-88b9-6df0eb4ecb6b')\"\n",
              "                title=\"Suggest charts\"\n",
              "                style=\"display:none;\">\n",
              "\n",
              "<svg xmlns=\"http://www.w3.org/2000/svg\" height=\"24px\"viewBox=\"0 0 24 24\"\n",
              "     width=\"24px\">\n",
              "    <g>\n",
              "        <path d=\"M19 3H5c-1.1 0-2 .9-2 2v14c0 1.1.9 2 2 2h14c1.1 0 2-.9 2-2V5c0-1.1-.9-2-2-2zM9 17H7v-7h2v7zm4 0h-2V7h2v10zm4 0h-2v-4h2v4z\"/>\n",
              "    </g>\n",
              "</svg>\n",
              "      </button>\n",
              "\n",
              "<style>\n",
              "  .colab-df-quickchart {\n",
              "      --bg-color: #E8F0FE;\n",
              "      --fill-color: #1967D2;\n",
              "      --hover-bg-color: #E2EBFA;\n",
              "      --hover-fill-color: #174EA6;\n",
              "      --disabled-fill-color: #AAA;\n",
              "      --disabled-bg-color: #DDD;\n",
              "  }\n",
              "\n",
              "  [theme=dark] .colab-df-quickchart {\n",
              "      --bg-color: #3B4455;\n",
              "      --fill-color: #D2E3FC;\n",
              "      --hover-bg-color: #434B5C;\n",
              "      --hover-fill-color: #FFFFFF;\n",
              "      --disabled-bg-color: #3B4455;\n",
              "      --disabled-fill-color: #666;\n",
              "  }\n",
              "\n",
              "  .colab-df-quickchart {\n",
              "    background-color: var(--bg-color);\n",
              "    border: none;\n",
              "    border-radius: 50%;\n",
              "    cursor: pointer;\n",
              "    display: none;\n",
              "    fill: var(--fill-color);\n",
              "    height: 32px;\n",
              "    padding: 0;\n",
              "    width: 32px;\n",
              "  }\n",
              "\n",
              "  .colab-df-quickchart:hover {\n",
              "    background-color: var(--hover-bg-color);\n",
              "    box-shadow: 0 1px 2px rgba(60, 64, 67, 0.3), 0 1px 3px 1px rgba(60, 64, 67, 0.15);\n",
              "    fill: var(--button-hover-fill-color);\n",
              "  }\n",
              "\n",
              "  .colab-df-quickchart-complete:disabled,\n",
              "  .colab-df-quickchart-complete:disabled:hover {\n",
              "    background-color: var(--disabled-bg-color);\n",
              "    fill: var(--disabled-fill-color);\n",
              "    box-shadow: none;\n",
              "  }\n",
              "\n",
              "  .colab-df-spinner {\n",
              "    border: 2px solid var(--fill-color);\n",
              "    border-color: transparent;\n",
              "    border-bottom-color: var(--fill-color);\n",
              "    animation:\n",
              "      spin 1s steps(1) infinite;\n",
              "  }\n",
              "\n",
              "  @keyframes spin {\n",
              "    0% {\n",
              "      border-color: transparent;\n",
              "      border-bottom-color: var(--fill-color);\n",
              "      border-left-color: var(--fill-color);\n",
              "    }\n",
              "    20% {\n",
              "      border-color: transparent;\n",
              "      border-left-color: var(--fill-color);\n",
              "      border-top-color: var(--fill-color);\n",
              "    }\n",
              "    30% {\n",
              "      border-color: transparent;\n",
              "      border-left-color: var(--fill-color);\n",
              "      border-top-color: var(--fill-color);\n",
              "      border-right-color: var(--fill-color);\n",
              "    }\n",
              "    40% {\n",
              "      border-color: transparent;\n",
              "      border-right-color: var(--fill-color);\n",
              "      border-top-color: var(--fill-color);\n",
              "    }\n",
              "    60% {\n",
              "      border-color: transparent;\n",
              "      border-right-color: var(--fill-color);\n",
              "    }\n",
              "    80% {\n",
              "      border-color: transparent;\n",
              "      border-right-color: var(--fill-color);\n",
              "      border-bottom-color: var(--fill-color);\n",
              "    }\n",
              "    90% {\n",
              "      border-color: transparent;\n",
              "      border-bottom-color: var(--fill-color);\n",
              "    }\n",
              "  }\n",
              "</style>\n",
              "\n",
              "      <script>\n",
              "        async function quickchart(key) {\n",
              "          const quickchartButtonEl =\n",
              "            document.querySelector('#' + key + ' button');\n",
              "          quickchartButtonEl.disabled = true;  // To prevent multiple clicks.\n",
              "          quickchartButtonEl.classList.add('colab-df-spinner');\n",
              "          try {\n",
              "            const charts = await google.colab.kernel.invokeFunction(\n",
              "                'suggestCharts', [key], {});\n",
              "          } catch (error) {\n",
              "            console.error('Error during call to suggestCharts:', error);\n",
              "          }\n",
              "          quickchartButtonEl.classList.remove('colab-df-spinner');\n",
              "          quickchartButtonEl.classList.add('colab-df-quickchart-complete');\n",
              "        }\n",
              "        (() => {\n",
              "          let quickchartButtonEl =\n",
              "            document.querySelector('#df-98abefb5-1d24-4548-88b9-6df0eb4ecb6b button');\n",
              "          quickchartButtonEl.style.display =\n",
              "            google.colab.kernel.accessAllowed ? 'block' : 'none';\n",
              "        })();\n",
              "      </script>\n",
              "    </div>\n",
              "\n",
              "    </div>\n",
              "  </div>\n"
            ],
            "application/vnd.google.colaboratory.intrinsic+json": {
              "type": "dataframe"
            }
          },
          "metadata": {},
          "execution_count": 9
        }
      ],
      "source": [
        "df.describe()"
      ]
    },
    {
      "cell_type": "code",
      "execution_count": null,
      "metadata": {
        "colab": {
          "base_uri": "https://localhost:8080/",
          "height": 1000
        },
        "id": "c0wnAt1TblO1",
        "outputId": "6e997d79-6e18-4040-b09c-53bf8ef20124"
      },
      "outputs": [
        {
          "output_type": "execute_result",
          "data": {
            "text/plain": [
              "CreditScore                   0\n",
              "AnnualIncome                  0\n",
              "LoanAmount                    0\n",
              "LoanDuration                  0\n",
              "Age                           0\n",
              "EmploymentStatus              0\n",
              "MaritalStatus                 0\n",
              "NumberOfDependents            0\n",
              "EducationLevel                0\n",
              "HomeOwnershipStatus           0\n",
              "MonthlyDebtPayments           0\n",
              "CreditCardUtilizationRate     0\n",
              "NumberOfOpenCreditLines       0\n",
              "NumberOfCreditInquiries       0\n",
              "DebtToIncomeRatio             0\n",
              "BankruptcyHistory             0\n",
              "LoanPurpose                   0\n",
              "PreviousLoanDefaults          0\n",
              "InterestRate                  0\n",
              "PaymentHistory                0\n",
              "SavingsAccountBalance         0\n",
              "CheckingAccountBalance        0\n",
              "EmergencyFundBalance          0\n",
              "TotalAssets                   0\n",
              "TotalLiabilities              0\n",
              "NetWorth                      0\n",
              "LengthOfCreditHistory         0\n",
              "MortgageBalance               0\n",
              "RentPayments                  0\n",
              "EmployerType                  0\n",
              "JobTenure                     0\n",
              "MonthlySavings                0\n",
              "AnnualBonuses                 0\n",
              "AnnualExpenses                0\n",
              "MonthlyHousingCosts           0\n",
              "MonthlyTransportationCosts    0\n",
              "MonthlyFoodCosts              0\n",
              "MonthlyHealthcareCosts        0\n",
              "MonthlyEntertainmentCosts     0\n",
              "LoanApproved                  0\n",
              "dtype: int64"
            ],
            "text/html": [
              "<div>\n",
              "<style scoped>\n",
              "    .dataframe tbody tr th:only-of-type {\n",
              "        vertical-align: middle;\n",
              "    }\n",
              "\n",
              "    .dataframe tbody tr th {\n",
              "        vertical-align: top;\n",
              "    }\n",
              "\n",
              "    .dataframe thead th {\n",
              "        text-align: right;\n",
              "    }\n",
              "</style>\n",
              "<table border=\"1\" class=\"dataframe\">\n",
              "  <thead>\n",
              "    <tr style=\"text-align: right;\">\n",
              "      <th></th>\n",
              "      <th>0</th>\n",
              "    </tr>\n",
              "  </thead>\n",
              "  <tbody>\n",
              "    <tr>\n",
              "      <th>CreditScore</th>\n",
              "      <td>0</td>\n",
              "    </tr>\n",
              "    <tr>\n",
              "      <th>AnnualIncome</th>\n",
              "      <td>0</td>\n",
              "    </tr>\n",
              "    <tr>\n",
              "      <th>LoanAmount</th>\n",
              "      <td>0</td>\n",
              "    </tr>\n",
              "    <tr>\n",
              "      <th>LoanDuration</th>\n",
              "      <td>0</td>\n",
              "    </tr>\n",
              "    <tr>\n",
              "      <th>Age</th>\n",
              "      <td>0</td>\n",
              "    </tr>\n",
              "    <tr>\n",
              "      <th>EmploymentStatus</th>\n",
              "      <td>0</td>\n",
              "    </tr>\n",
              "    <tr>\n",
              "      <th>MaritalStatus</th>\n",
              "      <td>0</td>\n",
              "    </tr>\n",
              "    <tr>\n",
              "      <th>NumberOfDependents</th>\n",
              "      <td>0</td>\n",
              "    </tr>\n",
              "    <tr>\n",
              "      <th>EducationLevel</th>\n",
              "      <td>0</td>\n",
              "    </tr>\n",
              "    <tr>\n",
              "      <th>HomeOwnershipStatus</th>\n",
              "      <td>0</td>\n",
              "    </tr>\n",
              "    <tr>\n",
              "      <th>MonthlyDebtPayments</th>\n",
              "      <td>0</td>\n",
              "    </tr>\n",
              "    <tr>\n",
              "      <th>CreditCardUtilizationRate</th>\n",
              "      <td>0</td>\n",
              "    </tr>\n",
              "    <tr>\n",
              "      <th>NumberOfOpenCreditLines</th>\n",
              "      <td>0</td>\n",
              "    </tr>\n",
              "    <tr>\n",
              "      <th>NumberOfCreditInquiries</th>\n",
              "      <td>0</td>\n",
              "    </tr>\n",
              "    <tr>\n",
              "      <th>DebtToIncomeRatio</th>\n",
              "      <td>0</td>\n",
              "    </tr>\n",
              "    <tr>\n",
              "      <th>BankruptcyHistory</th>\n",
              "      <td>0</td>\n",
              "    </tr>\n",
              "    <tr>\n",
              "      <th>LoanPurpose</th>\n",
              "      <td>0</td>\n",
              "    </tr>\n",
              "    <tr>\n",
              "      <th>PreviousLoanDefaults</th>\n",
              "      <td>0</td>\n",
              "    </tr>\n",
              "    <tr>\n",
              "      <th>InterestRate</th>\n",
              "      <td>0</td>\n",
              "    </tr>\n",
              "    <tr>\n",
              "      <th>PaymentHistory</th>\n",
              "      <td>0</td>\n",
              "    </tr>\n",
              "    <tr>\n",
              "      <th>SavingsAccountBalance</th>\n",
              "      <td>0</td>\n",
              "    </tr>\n",
              "    <tr>\n",
              "      <th>CheckingAccountBalance</th>\n",
              "      <td>0</td>\n",
              "    </tr>\n",
              "    <tr>\n",
              "      <th>EmergencyFundBalance</th>\n",
              "      <td>0</td>\n",
              "    </tr>\n",
              "    <tr>\n",
              "      <th>TotalAssets</th>\n",
              "      <td>0</td>\n",
              "    </tr>\n",
              "    <tr>\n",
              "      <th>TotalLiabilities</th>\n",
              "      <td>0</td>\n",
              "    </tr>\n",
              "    <tr>\n",
              "      <th>NetWorth</th>\n",
              "      <td>0</td>\n",
              "    </tr>\n",
              "    <tr>\n",
              "      <th>LengthOfCreditHistory</th>\n",
              "      <td>0</td>\n",
              "    </tr>\n",
              "    <tr>\n",
              "      <th>MortgageBalance</th>\n",
              "      <td>0</td>\n",
              "    </tr>\n",
              "    <tr>\n",
              "      <th>RentPayments</th>\n",
              "      <td>0</td>\n",
              "    </tr>\n",
              "    <tr>\n",
              "      <th>EmployerType</th>\n",
              "      <td>0</td>\n",
              "    </tr>\n",
              "    <tr>\n",
              "      <th>JobTenure</th>\n",
              "      <td>0</td>\n",
              "    </tr>\n",
              "    <tr>\n",
              "      <th>MonthlySavings</th>\n",
              "      <td>0</td>\n",
              "    </tr>\n",
              "    <tr>\n",
              "      <th>AnnualBonuses</th>\n",
              "      <td>0</td>\n",
              "    </tr>\n",
              "    <tr>\n",
              "      <th>AnnualExpenses</th>\n",
              "      <td>0</td>\n",
              "    </tr>\n",
              "    <tr>\n",
              "      <th>MonthlyHousingCosts</th>\n",
              "      <td>0</td>\n",
              "    </tr>\n",
              "    <tr>\n",
              "      <th>MonthlyTransportationCosts</th>\n",
              "      <td>0</td>\n",
              "    </tr>\n",
              "    <tr>\n",
              "      <th>MonthlyFoodCosts</th>\n",
              "      <td>0</td>\n",
              "    </tr>\n",
              "    <tr>\n",
              "      <th>MonthlyHealthcareCosts</th>\n",
              "      <td>0</td>\n",
              "    </tr>\n",
              "    <tr>\n",
              "      <th>MonthlyEntertainmentCosts</th>\n",
              "      <td>0</td>\n",
              "    </tr>\n",
              "    <tr>\n",
              "      <th>LoanApproved</th>\n",
              "      <td>0</td>\n",
              "    </tr>\n",
              "  </tbody>\n",
              "</table>\n",
              "</div><br><label><b>dtype:</b> int64</label>"
            ]
          },
          "metadata": {},
          "execution_count": 10
        }
      ],
      "source": [
        "df.isnull().sum()"
      ]
    },
    {
      "cell_type": "markdown",
      "source": [
        "Exploratory Data Analysis (EDA)"
      ],
      "metadata": {
        "id": "XW4ifyO4HlE9"
      }
    },
    {
      "cell_type": "markdown",
      "metadata": {
        "id": "i2F3rwV1KNiY"
      },
      "source": [
        "1. Loan Approval Distribution (Bar Plot)"
      ]
    },
    {
      "cell_type": "code",
      "execution_count": null,
      "metadata": {
        "colab": {
          "base_uri": "https://localhost:8080/",
          "height": 507
        },
        "id": "feGnAD1Z-Inn",
        "outputId": "bd0c685d-a458-49e9-e544-ad4dbcd4af60"
      },
      "outputs": [
        {
          "output_type": "stream",
          "name": "stdout",
          "text": [
            "✅ Target Variable Counts:\n",
            "LoanApproved\n",
            "0    626831\n",
            "1    373169\n",
            "Name: count, dtype: int64\n"
          ]
        },
        {
          "output_type": "display_data",
          "data": {
            "text/plain": [
              "<Figure size 600x400 with 1 Axes>"
            ],
            "image/png": "[encoded data removed]"
          },
          "metadata": {}
        }
      ],
      "source": [
        "import matplotlib.pyplot as plt\n",
        "import seaborn as sns\n",
        "\n",
        "# Set style\n",
        "sns.set(style=\"whitegrid\")\n",
        "\n",
        "# Plot\n",
        "plt.figure(figsize=(6, 4))\n",
        "ax = sns.countplot(x='LoanApproved', data=df, palette=['#66b3ff', '#99ff99'])\n",
        "\n",
        "# Add labels\n",
        "plt.title('Loan Approval Distribution', fontsize=14)\n",
        "plt.xlabel('Loan Approved (0 = No, 1 = Yes)', fontsize=12)\n",
        "plt.ylabel('Count', fontsize=12)\n",
        "\n",
        "# Show count on top of each bar\n",
        "for p in ax.patches:\n",
        "    count = int(p.get_height())\n",
        "    ax.annotate(f'{count:,}', (p.get_x() + p.get_width() / 2., p.get_height()),\n",
        "                ha='center', va='bottom', fontsize=11)\n",
        "\n",
        "# Print actual counts\n",
        "print(\"✅ Target Variable Counts:\")\n",
        "print(df['LoanApproved'].value_counts())\n"
      ]
    },
    {
      "cell_type": "markdown",
      "metadata": {
        "id": "aUJ_FCje_gIp"
      },
      "source": [
        "The bar chart highlights a class imbalance problem, which if not addressed, could lead to biased predictions. To handle this, SMOTE was applied before model training to ensure balanced class representation"
      ]
    },
    {
      "cell_type": "markdown",
      "metadata": {
        "id": "QUAY2QqyNHm-"
      },
      "source": [
        "Credit Score vs Loan Status (Box Plot)"
      ]
    },
    {
      "cell_type": "code",
      "execution_count": null,
      "metadata": {
        "colab": {
          "base_uri": "https://localhost:8080/",
          "height": 419
        },
        "id": "Rb80nlDAKAiJ",
        "outputId": "d2dbdacf-6574-4a93-dac3-bd58466692e4"
      },
      "outputs": [
        {
          "output_type": "display_data",
          "data": {
            "text/plain": [
              "<Figure size 800x400 with 1 Axes>"
            ],
            "image/png": "[encoded data removed]"
          },
          "metadata": {}
        }
      ],
      "source": [
        "plt.figure(figsize=(8, 4))\n",
        "sns.boxplot(x='LoanApproved', y='CreditScore', data=df)\n",
        "plt.title('Credit Score by Loan Approval')\n",
        "plt.xlabel('Loan Approved')\n",
        "plt.ylabel('Credit Score')\n",
        "plt.show()\n"
      ]
    },
    {
      "cell_type": "markdown",
      "metadata": {
        "id": "MwlEz6bGBO55"
      },
      "source": []
    },
    {
      "cell_type": "markdown",
      "metadata": {
        "id": "tOqHA6OfAXNO"
      },
      "source": [
        "\n",
        "\n",
        "*   Approved loans (1) tend to have higher credit scores, mostly between 600–800+\n",
        "*   Rejected loans (0) cluster around 300–600, showing wider variation and lower median\n",
        "\n",
        "*   This confirms that credit score has a strong influence on loan approval — an important feature.\n",
        "\n",
        "\n",
        "\n",
        "\n",
        "\n",
        "\n"
      ]
    },
    {
      "cell_type": "markdown",
      "source": [
        "Annual Income Distribution by Loan Approval Status"
      ],
      "metadata": {
        "id": "5BvhAp60Pix2"
      }
    },
    {
      "cell_type": "code",
      "source": [
        "sns.boxplot(x='LoanApproved', y='AnnualIncome', data=df)\n",
        "plt.title('Income Distribution by Loan Approval')\n",
        "plt.show()\n"
      ],
      "metadata": {
        "colab": {
          "base_uri": "https://localhost:8080/",
          "height": 480
        },
        "id": "kQCh4M6GOg78",
        "outputId": "c133a030-ac2a-4a5e-8f37-6435023954d4"
      },
      "execution_count": null,
      "outputs": [
        {
          "output_type": "display_data",
          "data": {
            "text/plain": [
              "<Figure size 640x480 with 1 Axes>"
            ],
            "image/png": "[encoded data removed]"
          },
          "metadata": {}
        }
      ]
    },
    {
      "cell_type": "markdown",
      "source": [
        "\n",
        "\n",
        "1.   This boxplot shows how Annual Income varies for both loan approval outcomes (0 = Not Approved, 1 = Approved).\n",
        "\n",
        "2.   The median income is similar for both groups, but approved loans have slightly higher overall income levels.\n",
        "\n",
        "3.   There are noticeable outliers on both sides, especially for higher income values\n",
        "\n",
        "4.   The interquartile range (IQR) is quite similar, indicating comparable variability in income among approved and non-approved applicants.\n",
        "\n",
        "5.   This plot suggests that while income is important, loan approval does not depend solely on income, reinforcing the importance of using multiple features for prediction\n",
        "   \n",
        "\n",
        "\n",
        "\n",
        "\n",
        "\n"
      ],
      "metadata": {
        "id": "oVYLhMmvPlkf"
      }
    },
    {
      "cell_type": "markdown",
      "metadata": {
        "id": "8lpJXRMqNO3x"
      },
      "source": [
        "Correlation Heatmap (Numerical Features Only)"
      ]
    },
    {
      "cell_type": "code",
      "execution_count": null,
      "metadata": {
        "colab": {
          "base_uri": "https://localhost:8080/",
          "height": 800
        },
        "id": "31RNgvbgJ_68",
        "outputId": "cde83b2f-7ad8-4762-e018-bd8db39e89af"
      },
      "outputs": [
        {
          "output_type": "display_data",
          "data": {
            "text/plain": [
              "<Figure size 1000x800 with 2 Axes>"
            ],
            "image/png": "[encoded data removed]"
          },
          "metadata": {}
        }
      ],
      "source": [
        "corr = df.corr(numeric_only=True)\n",
        "\n",
        "\n",
        "# Get top 10 correlated with LoanApproved\n",
        "top_corr_features = corr['LoanApproved'].abs().sort_values(ascending=False).head(11).index\n",
        "top_corr_df = df[top_corr_features].corr()\n",
        "\n",
        "# Plot smaller heatmap\n",
        "plt.figure(figsize=(10, 8))\n",
        "sns.heatmap(top_corr_df, annot=True, fmt=\".2f\", cmap='coolwarm', linewidths=0.5,\n",
        "            cbar=True, annot_kws={\"size\": 12})\n",
        "\n",
        "plt.title(\"Top Correlated Features with Loan Approval\", fontsize=16)\n",
        "plt.xticks(rotation=45, ha='right', fontsize=10)\n",
        "plt.yticks(fontsize=10)\n",
        "plt.tight_layout()\n",
        "plt.show()\n"
      ]
    },
    {
      "cell_type": "markdown",
      "metadata": {
        "id": "6Uq4CjaAEpzI"
      },
      "source": [
        "\n",
        "\n",
        "1.   Visualized top 10 features correlated with loan approval using a correlation heatmap for interpretability.\n",
        "\n",
        "\n",
        "2.   Identified CreditScore as the strongest positive predictor (correlation = 0.49) for loan approval decisions.\n",
        "\n",
        "3.   Used correlation filtering to reduce noise and focus on only meaningful numeric relationships\n",
        "\n",
        "4.   Enhanced chart readability by customizing figure size, labels, and annotation formats\n",
        "\n",
        "\n",
        "\n"
      ]
    },
    {
      "cell_type": "code",
      "execution_count": null,
      "metadata": {
        "id": "eDK0V7gCJ_zy"
      },
      "outputs": [],
      "source": []
    },
    {
      "cell_type": "markdown",
      "metadata": {
        "id": "Gd-JRQweI_E2"
      },
      "source": [
        "feature creation\n"
      ]
    },
    {
      "cell_type": "markdown",
      "metadata": {
        "id": "Nnaub72QSFu5"
      },
      "source": [
        "train test split the data"
      ]
    },
    {
      "cell_type": "code",
      "execution_count": null,
      "metadata": {
        "id": "QYf_ovbP-7gS"
      },
      "outputs": [],
      "source": [
        "from sklearn.model_selection import train_test_split\n",
        "import pandas as pd\n",
        "\n",
        "def train_test_split_and_features(df):\n",
        "    # ✅ 1. Separate target\n",
        "    y = df['LoanApproved']\n",
        "    x = df.drop(columns=['LoanApproved'])\n",
        "\n",
        "    # ✅ 2. One-hot encode selected categorical columns\n",
        "    x = pd.get_dummies(\n",
        "        x,\n",
        "        columns=[\n",
        "            \"EmploymentStatus\",\n",
        "            \"MaritalStatus\",\n",
        "            \"EducationLevel\",\n",
        "            \"HomeOwnershipStatus\",\n",
        "            \"LoanPurpose\",\n",
        "            \"EmployerType\"\n",
        "        ],\n",
        "        drop_first=True\n",
        "    )\n",
        "\n",
        "    # ✅ 3. Convert all boolean columns to 0/1\n",
        "    for col in x.columns:\n",
        "        if x[col].dtype == 'bool':\n",
        "            x[col] = x[col].astype(int)\n",
        "\n",
        "    # ✅ 4. Train-test split\n",
        "    x_train, x_test, y_train, y_test = train_test_split(x, y, test_size=0.2, random_state=0)\n",
        "\n",
        "    # ✅ 5. Preview\n",
        "    print(\"✅ First 5 rows after all preprocessing:\")\n",
        "    print(x.head())\n",
        "    print(\"\\n✅ All columns are now numeric. Dtypes summary:\")\n",
        "    print(x.dtypes.value_counts())\n",
        "\n",
        "    features = list(x.columns)\n",
        "    return x_train, x_test, y_train, y_test, features\n"
      ]
    },
    {
      "cell_type": "code",
      "execution_count": null,
      "metadata": {
        "colab": {
          "base_uri": "https://localhost:8080/"
        },
        "id": "vZ6r0msl-67V",
        "outputId": "f18be89b-f291-4e61-e11b-d9330d442cf9"
      },
      "outputs": [
        {
          "name": "stdout",
          "output_type": "stream",
          "text": [
            "✅ First 5 rows after all preprocessing:\n",
            "   CreditScore  AnnualIncome  LoanAmount  LoanDuration  Age  \\\n",
            "0          402         63295       18830            13   29   \n",
            "1          735         55936       23729             1   42   \n",
            "2          570         62547       19660             7   54   \n",
            "3          406         46129       21674            23   25   \n",
            "4          371         57725       12189            26   42   \n",
            "\n",
            "   NumberOfDependents  MonthlyDebtPayments  CreditCardUtilizationRate  \\\n",
            "0                   2                  675                   0.144528   \n",
            "1                   3                  508                   0.690435   \n",
            "2                   3                  610                   0.388420   \n",
            "3                   3                  469                   0.749665   \n",
            "4                   4                  607                   0.969138   \n",
            "\n",
            "   NumberOfOpenCreditLines  NumberOfCreditInquiries  ...  \\\n",
            "0                       11                        2  ...   \n",
            "1                        9                        8  ...   \n",
            "2                       10                        3  ...   \n",
            "3                       11                        9  ...   \n",
            "4                        6                        9  ...   \n",
            "\n",
            "   HomeOwnershipStatus_Other  HomeOwnershipStatus_Own  \\\n",
            "0                          1                        0   \n",
            "1                          0                        1   \n",
            "2                          0                        0   \n",
            "3                          1                        0   \n",
            "4                          0                        1   \n",
            "\n",
            "   HomeOwnershipStatus_Rent  LoanPurpose_Debt Consolidation  \\\n",
            "0                         0                               0   \n",
            "1                         0                               1   \n",
            "2                         0                               0   \n",
            "3                         0                               0   \n",
            "4                         0                               0   \n",
            "\n",
            "   LoanPurpose_Education  LoanPurpose_Home  LoanPurpose_Other  \\\n",
            "0                      1                 0                  0   \n",
            "1                      0                 0                  0   \n",
            "2                      0                 0                  1   \n",
            "3                      0                 1                  0   \n",
            "4                      1                 0                  0   \n",
            "\n",
            "   EmployerType_Private  EmployerType_Public  EmployerType_Self-Employed  \n",
            "0                     0                    0                           1  \n",
            "1                     1                    0                           0  \n",
            "2                     0                    0                           0  \n",
            "3                     0                    1                           0  \n",
            "4                     0                    0                           0  \n",
            "\n",
            "[5 rows x 52 columns]\n",
            "\n",
            "✅ All columns are now numeric. Dtypes summary:\n",
            "int64      49\n",
            "float64     3\n",
            "Name: count, dtype: int64\n"
          ]
        }
      ],
      "source": [
        "x_train, x_test, y_train, y_test,features = train_test_split_and_features(df)"
      ]
    },
    {
      "cell_type": "code",
      "execution_count": null,
      "metadata": {
        "id": "2Fr1L-7UJbOb"
      },
      "outputs": [],
      "source": [
        "# Split the data\n",
        "from sklearn.model_selection import train_test_split\n",
        "\n",
        "y = df['LoanApproved']\n",
        "X = df.drop(columns=['LoanApproved'])\n",
        "\n",
        "# If needed (and not already done)\n",
        "X = pd.get_dummies(X, drop_first=True)\n",
        "\n",
        "# Train-test split\n",
        "x_train, x_test, y_train, y_test = train_test_split(X, y, test_size=0.2, random_state=42)\n"
      ]
    },
    {
      "cell_type": "markdown",
      "source": [
        "Random Forest Classifier: Model Training and Evaluation with Performance Metrics\""
      ],
      "metadata": {
        "id": "9eyorTAOHWdE"
      }
    },
    {
      "cell_type": "code",
      "execution_count": null,
      "metadata": {
        "id": "AKz6ROH_7U-T"
      },
      "outputs": [],
      "source": [
        "def fit_and_evaluate_model(x_train, x_test, y_train, y_test):\n",
        "    from sklearn.ensemble import RandomForestClassifier\n",
        "    from sklearn.metrics import confusion_matrix, accuracy_score, classification_report\n",
        "\n",
        "    random_forest = RandomForestClassifier(\n",
        "        n_estimators=20,\n",
        "        random_state=0,\n",
        "        max_depth=5,\n",
        "        min_samples_split=0.01,\n",
        "        max_features=0.8,\n",
        "        max_samples=0.8\n",
        "    )\n",
        "\n",
        "    model = random_forest.fit(x_train, y_train)\n",
        "    predictions = model.predict(x_test)\n",
        "\n",
        "    print(\"✅ Confusion Matrix:\")\n",
        "    print(confusion_matrix(y_test, predictions))\n",
        "\n",
        "    print(\"\\n✅ Accuracy:\")\n",
        "    print(f\"{accuracy_score(y_test, predictions) * 100:.2f}%\\n\")\n",
        "\n",
        "    print(\"✅ Classification Report:\")\n",
        "    print(classification_report(y_test, predictions))\n",
        "\n",
        "    print(\"✅ Model Trained and Evaluated Successfully\")\n",
        "    return model\n"
      ]
    },
    {
      "cell_type": "code",
      "execution_count": null,
      "metadata": {
        "colab": {
          "base_uri": "https://localhost:8080/"
        },
        "id": "6A1CqGXD7Urz",
        "outputId": "88ef4fef-8b1d-445b-ef11-bd9ccbea747a"
      },
      "outputs": [
        {
          "output_type": "stream",
          "name": "stdout",
          "text": [
            "✅ Confusion Matrix:\n",
            "[[75663 49755]\n",
            " [    0 74582]]\n",
            "\n",
            "✅ Accuracy:\n",
            "75.12%\n",
            "\n",
            "✅ Classification Report:\n",
            "              precision    recall  f1-score   support\n",
            "\n",
            "           0       1.00      0.60      0.75    125418\n",
            "           1       0.60      1.00      0.75     74582\n",
            "\n",
            "    accuracy                           0.75    200000\n",
            "   macro avg       0.80      0.80      0.75    200000\n",
            "weighted avg       0.85      0.75      0.75    200000\n",
            "\n",
            "✅ Model Trained and Evaluated Successfully\n"
          ]
        }
      ],
      "source": [
        "model = fit_and_evaluate_model(x_train, x_test, y_train, y_test)"
      ]
    },
    {
      "cell_type": "markdown",
      "metadata": {
        "id": "XrYBIlfSLl2r"
      },
      "source": [
        "\n",
        "\n",
        "1.   True Negatives (TN): 75,663\n",
        "2.   False Positives (FP): 49,755 → Model predicted 'Approved' but was 'Not Approved'\n",
        "\n",
        "1.   False Negatives (FN): 0 → Perfect recall for class 1\n",
        "2.   True Positives (TP): 74,582\n",
        "\n",
        "\n",
        "\n",
        "\n",
        "\n"
      ]
    },
    {
      "cell_type": "code",
      "execution_count": null,
      "metadata": {
        "colab": {
          "base_uri": "https://localhost:8080/"
        },
        "id": "RE6LIObfxjJq",
        "outputId": "287ac390-d581-4dfa-846c-354b4b1fe8fd"
      },
      "outputs": [
        {
          "output_type": "stream",
          "name": "stdout",
          "text": [
            "Requirement already satisfied: xgboost in /usr/local/lib/python3.11/dist-packages (2.1.4)\n",
            "Requirement already satisfied: numpy in /usr/local/lib/python3.11/dist-packages (from xgboost) (2.0.2)\n",
            "Requirement already satisfied: nvidia-nccl-cu12 in /usr/local/lib/python3.11/dist-packages (from xgboost) (2.21.5)\n",
            "Requirement already satisfied: scipy in /usr/local/lib/python3.11/dist-packages (from xgboost) (1.15.3)\n"
          ]
        }
      ],
      "source": [
        "!pip install xgboost\n"
      ]
    },
    {
      "cell_type": "markdown",
      "source": [
        "XGBoost Model Implementation with Performance Metrics"
      ],
      "metadata": {
        "id": "Hfqohg3MGhp0"
      }
    },
    {
      "cell_type": "code",
      "execution_count": null,
      "metadata": {
        "id": "Nhw9O91qUccJ"
      },
      "outputs": [],
      "source": [
        "from xgboost import XGBClassifier\n",
        "from sklearn.metrics import accuracy_score, confusion_matrix, classification_report\n",
        "\n",
        "def fit_and_evaluate_xgboost(x_train, x_test, y_train, y_test):\n",
        "    xgb_model = XGBClassifier(\n",
        "        n_estimators=100,\n",
        "        max_depth=5,\n",
        "        learning_rate=0.1,\n",
        "        subsample=0.8,\n",
        "        colsample_bytree=0.8,\n",
        "        use_label_encoder=False,\n",
        "        eval_metric='logloss',\n",
        "        random_state=42\n",
        "    )\n",
        "\n",
        "    xgb_model.fit(x_train, y_train)\n",
        "    y_pred = xgb_model.predict(x_test)\n",
        "\n",
        "    print(\"✅ Confusion Matrix:\")\n",
        "    print(confusion_matrix(y_test, y_pred))\n",
        "\n",
        "    accuracy = accuracy_score(y_test, y_pred)\n",
        "    print(f\"\\n✅ Accuracy: {accuracy * 100:.2f}%\\n\")\n",
        "\n",
        "    print(\"✅ Classification Report:\")\n",
        "    print(classification_report(y_test, y_pred))\n",
        "\n",
        "    return xgb_model\n"
      ]
    },
    {
      "cell_type": "code",
      "execution_count": null,
      "metadata": {
        "colab": {
          "base_uri": "https://localhost:8080/"
        },
        "id": "HwJ7f3XQUcaA",
        "outputId": "41cb7d7a-19ba-4d14-9b8c-561b1520b03d"
      },
      "outputs": [
        {
          "output_type": "stream",
          "name": "stdout",
          "text": [
            "✅ Confusion Matrix:\n",
            "[[75696 49722]\n",
            " [   33 74549]]\n",
            "\n",
            "✅ Accuracy: 75.12%\n",
            "\n",
            "✅ Classification Report:\n",
            "              precision    recall  f1-score   support\n",
            "\n",
            "           0       1.00      0.60      0.75    125418\n",
            "           1       0.60      1.00      0.75     74582\n",
            "\n",
            "    accuracy                           0.75    200000\n",
            "   macro avg       0.80      0.80      0.75    200000\n",
            "weighted avg       0.85      0.75      0.75    200000\n",
            "\n"
          ]
        }
      ],
      "source": [
        "xgb_model = fit_and_evaluate_xgboost(x_train, x_test, y_train, y_test)\n"
      ]
    },
    {
      "cell_type": "markdown",
      "metadata": {
        "id": "V2-1nESeNdyI"
      },
      "source": [
        " Implemented and compared Random Forest and XGBoost classifiers on a credit risk dataset with 1 million+ rows, achieving ~75% accuracy. XGBoost outperformed in recall for approved loans (100%), highlighting its effectiveness in minimizing false negatives."
      ]
    },
    {
      "cell_type": "markdown",
      "metadata": {
        "id": "EagwQNHCuznv"
      },
      "source": [
        "STEP 1: Import Required Libraries"
      ]
    },
    {
      "cell_type": "code",
      "execution_count": null,
      "metadata": {
        "id": "X6fafJQNUcVl"
      },
      "outputs": [],
      "source": [
        "import pandas as pd\n",
        "import numpy as np\n",
        "from sklearn.model_selection import train_test_split\n",
        "from sklearn.metrics import confusion_matrix, accuracy_score, classification_report\n",
        "from imblearn.over_sampling import SMOTE\n",
        "from xgboost import XGBClassifier\n",
        "import matplotlib.pyplot as plt\n"
      ]
    },
    {
      "cell_type": "markdown",
      "metadata": {
        "id": "AVAblQSby8Uv"
      },
      "source": [
        "STEP 2: Define Clean Train-Test Split Function"
      ]
    },
    {
      "cell_type": "code",
      "execution_count": null,
      "metadata": {
        "id": "Jj97yAddUcTO"
      },
      "outputs": [],
      "source": [
        "def train_test_split_and_features(df):\n",
        "    y = df['LoanApproved']\n",
        "    x = df.drop(columns=['LoanApproved'])\n",
        "\n",
        "    # One-hot encode categorical columns\n",
        "    x = pd.get_dummies(x, columns=[\n",
        "        \"EmploymentStatus\", \"MaritalStatus\", \"EducationLevel\",\n",
        "        \"HomeOwnershipStatus\", \"LoanPurpose\", \"EmployerType\"\n",
        "    ], drop_first=True)\n",
        "\n",
        "    # Convert boolean columns to int\n",
        "    for col in x.columns:\n",
        "        if x[col].dtype == 'bool':\n",
        "            x[col] = x[col].astype(int)\n",
        "\n",
        "    # Fill missing values (numeric) with median\n",
        "    for col in x.columns:\n",
        "        if x[col].isnull().sum() > 0:\n",
        "            x[col] = x[col].fillna(x[col].median())\n",
        "\n",
        "    x_train, x_test, y_train, y_test = train_test_split(x, y, test_size=0.2, random_state=0)\n",
        "    features = list(x.columns)\n",
        "\n",
        "    return x_train, x_test, y_train, y_test, features\n"
      ]
    },
    {
      "cell_type": "markdown",
      "metadata": {
        "id": "tJxroKPAz9Kz"
      },
      "source": [
        "STEP 3: Define XGBoost Training & Evaluation Function"
      ]
    },
    {
      "cell_type": "markdown",
      "metadata": {
        "id": "hkFbBL97Q3Z4"
      },
      "source": [
        "Data Imbalance Handling (SMOTE)"
      ]
    },
    {
      "cell_type": "code",
      "execution_count": null,
      "metadata": {
        "colab": {
          "base_uri": "https://localhost:8080/",
          "height": 342
        },
        "id": "c1a9SB40PE7-",
        "outputId": "4930b16a-4a72-437e-bfc9-a730c3220b94"
      },
      "outputs": [
        {
          "output_type": "display_data",
          "data": {
            "text/plain": [
              "<Figure size 500x300 with 1 Axes>"
            ],
            "image/png": "[encoded data removed]"
          },
          "metadata": {}
        }
      ],
      "source": [
        "# Before SMOTE\n",
        "plt.figure(figsize=(5, 3))\n",
        "sns.countplot(x=y_train)\n",
        "plt.title(\"Before SMOTE - Class Distribution\")\n",
        "plt.show()"
      ]
    },
    {
      "cell_type": "markdown",
      "metadata": {
        "id": "0q7K3dlpOEXV"
      },
      "source": [
        "\n",
        "\n",
        "1.  Detected class imbalance (LoanApproved: 0 >> 1) in the original dataset\n",
        "2.  Visualized imbalance using a bar plot before applying resampling techniques\n",
        "\n",
        "3.  Used SMOTE (Synthetic Minority Over-sampling Technique) to balance the target classes\n",
        "4.  Balanced data improves model fairness, especially in recall for minority class (loan approvals)\n",
        "\n",
        "5.  Trained models on SMOTE-balanced data to reduce false negatives and improve generalization.\n",
        "\n",
        "\n",
        "\n",
        "\n",
        "\n",
        "\n"
      ]
    },
    {
      "cell_type": "code",
      "execution_count": null,
      "metadata": {
        "id": "4n7p8K76Y-k9"
      },
      "outputs": [],
      "source": []
    },
    {
      "cell_type": "markdown",
      "source": [
        "Building a Balanced XGBoost Classifier with Feature Importance and SMOTE"
      ],
      "metadata": {
        "id": "xWbBC6y_Freg"
      }
    },
    {
      "cell_type": "code",
      "execution_count": null,
      "metadata": {
        "id": "Jz7TdgXxbjVz"
      },
      "outputs": [],
      "source": [
        "def smote_xgboost_top_features(x_train, x_test, y_train, y_test, top_k=30):\n",
        "    from xgboost import XGBClassifier\n",
        "    from imblearn.over_sampling import SMOTE\n",
        "    import pandas as pd\n",
        "    from sklearn.metrics import confusion_matrix, accuracy_score, classification_report\n",
        "\n",
        "    # Step 1: Train on full data to get top features\n",
        "    model_temp = XGBClassifier(use_label_encoder=False, eval_metric='logloss', random_state=42)\n",
        "    model_temp.fit(x_train, y_train)\n",
        "\n",
        "    # Step 2: Get top K features\n",
        "    importances = pd.Series(model_temp.feature_importances_, index=x_train.columns)\n",
        "    top_features = importances.sort_values(ascending=False).head(top_k).index\n",
        "\n",
        "    # Step 3: Filter top features\n",
        "    x_train_top = x_train[top_features]\n",
        "    x_test_top = x_test[top_features]\n",
        "\n",
        "    # Step 4: Apply SMOTE\n",
        "    sm = SMOTE(random_state=42)\n",
        "    x_train_res, y_train_res = sm.fit_resample(x_train_top, y_train)\n",
        "\n",
        "    # Step 5: Final XGBoost model\n",
        "    final_model = XGBClassifier(use_label_encoder=False, eval_metric='logloss', random_state=42)\n",
        "    final_model.fit(x_train_res, y_train_res)\n",
        "\n",
        "    # Step 6: Evaluate\n",
        "    y_pred = final_model.predict(x_test_top)\n",
        "    print(\"✅ Confusion Matrix:\")\n",
        "    print(confusion_matrix(y_test, y_pred))\n",
        "    print(f\"\\n✅ Accuracy: {accuracy_score(y_test, y_pred)*100:.2f}%\")\n",
        "    print(\"\\n✅ Classification Report:\")\n",
        "    print(classification_report(y_test, y_pred))\n",
        "\n",
        "        # ✅ RETURN everything needed for tuning and plotting\n",
        "    return final_model, x_train_res, y_train_res, x_test_top, y_test\n",
        "\n"
      ]
    },
    {
      "cell_type": "code",
      "execution_count": null,
      "metadata": {
        "colab": {
          "base_uri": "https://localhost:8080/"
        },
        "id": "1FPrp0ArDA1M",
        "outputId": "0d0d611b-1842-44f4-9e2e-4cf6f86f06ed"
      },
      "outputs": [
        {
          "output_type": "stream",
          "name": "stdout",
          "text": [
            "✅ Confusion Matrix:\n",
            "[[77834 47584]\n",
            " [ 3468 71114]]\n",
            "\n",
            "✅ Accuracy: 74.47%\n",
            "\n",
            "✅ Classification Report:\n",
            "              precision    recall  f1-score   support\n",
            "\n",
            "           0       0.96      0.62      0.75    125418\n",
            "           1       0.60      0.95      0.74     74582\n",
            "\n",
            "    accuracy                           0.74    200000\n",
            "   macro avg       0.78      0.79      0.74    200000\n",
            "weighted avg       0.82      0.74      0.75    200000\n",
            "\n"
          ]
        }
      ],
      "source": [
        "final_model, x_train_res, y_train_res, x_test_top, y_test = smote_xgboost_top_features(x_train, x_test, y_train, y_test)\n"
      ]
    },
    {
      "cell_type": "markdown",
      "metadata": {
        "id": "NqvAR7WfYZqE"
      },
      "source": [
        "\n",
        "\n",
        "1.  Recall for approved loans (class 1) improved significantly due to SMOTE, which helped balance the class distribution.\n",
        "2.   The model correctly catches most actual approvals (low false negatives) — this is important in credit risk analysis.\n",
        "\n",
        "3.   Trade-off: Slight drop in precision and accuracy, but much better fairness and risk coverage\n",
        "\n",
        "\n",
        "\n",
        "\n"
      ]
    },
    {
      "cell_type": "markdown",
      "source": [],
      "metadata": {
        "id": "jl5Pk2sfFH-v"
      }
    },
    {
      "cell_type": "markdown",
      "source": [
        "XGBoost Model Optimization via Hyperparameter Tuning"
      ],
      "metadata": {
        "id": "-LvG-ztfFJL0"
      }
    },
    {
      "cell_type": "code",
      "execution_count": null,
      "metadata": {
        "colab": {
          "base_uri": "https://localhost:8080/"
        },
        "id": "ll9DrqlY9Pp-",
        "outputId": "5bfb070a-1756-4457-eeb4-ffae86d010e2"
      },
      "outputs": [
        {
          "output_type": "stream",
          "name": "stdout",
          "text": [
            "Fitting 3 folds for each of 10 candidates, totalling 30 fits\n",
            "✅ Best Parameters: {'subsample': 0.8, 'n_estimators': 100, 'max_depth': 3, 'learning_rate': 0.01, 'colsample_bytree': 0.8}\n",
            "✅ Best Accuracy: 80.11379829867161\n"
          ]
        }
      ],
      "source": [
        "from sklearn.model_selection import RandomizedSearchCV\n",
        "from xgboost import XGBClassifier\n",
        "import numpy as np\n",
        "\n",
        "# Define parameter grid\n",
        "param_grid = {\n",
        "    'n_estimators': [50, 100, 200],\n",
        "    'max_depth': [3, 5, 7, 10],\n",
        "    'learning_rate': [0.01, 0.05, 0.1, 0.2],\n",
        "    'subsample': [0.6, 0.8, 1.0],\n",
        "    'colsample_bytree': [0.6, 0.8, 1.0]\n",
        "}\n",
        "\n",
        "# Initialize model\n",
        "xgb = XGBClassifier(use_label_encoder=False, eval_metric='logloss', random_state=42)\n",
        "\n",
        "# RandomizedSearchCV setup\n",
        "random_search = RandomizedSearchCV(\n",
        "    estimator=xgb,\n",
        "    param_distributions=param_grid,\n",
        "    n_iter=10,\n",
        "    scoring='accuracy',\n",
        "    cv=3,\n",
        "    verbose=2,\n",
        "    n_jobs=-1,\n",
        "    random_state=42\n",
        ")\n",
        "\n",
        "# Fit on training data\n",
        "random_search.fit(x_train_res, y_train_res)\n",
        "\n",
        "# Print best results\n",
        "print(\"✅ Best Parameters:\", random_search.best_params_)\n",
        "print(\"✅ Best Accuracy:\", random_search.best_score_ * 100)\n"
      ]
    },
    {
      "cell_type": "markdown",
      "source": [
        "Trained final model using these parameters:"
      ],
      "metadata": {
        "id": "eQZH-oJLtINb"
      }
    },
    {
      "cell_type": "code",
      "source": [
        "best_xgb = XGBClassifier(\n",
        "    use_label_encoder=False,\n",
        "    eval_metric='logloss',\n",
        "    random_state=42,\n",
        "    subsample=0.8,\n",
        "    n_estimators=100,\n",
        "    max_depth=3,\n",
        "    learning_rate=0.01,\n",
        "    colsample_bytree=0.8\n",
        ")\n",
        "\n",
        "best_xgb.fit(x_train_res, y_train_res)\n"
      ],
      "metadata": {
        "colab": {
          "base_uri": "https://localhost:8080/",
          "height": 254
        },
        "id": "NXpHOiw1s4qe",
        "outputId": "a578be1b-e7ca-4f78-ec2b-b62a4c3e55fc"
      },
      "execution_count": null,
      "outputs": [
        {
          "output_type": "execute_result",
          "data": {
            "text/plain": [
              "XGBClassifier(base_score=None, booster=None, callbacks=None,\n",
              "              colsample_bylevel=None, colsample_bynode=None,\n",
              "              colsample_bytree=0.8, device=None, early_stopping_rounds=None,\n",
              "              enable_categorical=False, eval_metric='logloss',\n",
              "              feature_types=None, gamma=None, grow_policy=None,\n",
              "              importance_type=None, interaction_constraints=None,\n",
              "              learning_rate=0.01, max_bin=None, max_cat_threshold=None,\n",
              "              max_cat_to_onehot=None, max_delta_step=None, max_depth=3,\n",
              "              max_leaves=None, min_child_weight=None, missing=nan,\n",
              "              monotone_constraints=None, multi_strategy=None, n_estimators=100,\n",
              "              n_jobs=None, num_parallel_tree=None, random_state=42, ...)"
            ],
            "text/html": [
              "<style>#sk-container-id-1 {\n",
              "  /* Definition of color scheme common for light and dark mode */\n",
              "  --sklearn-color-text: #000;\n",
              "  --sklearn-color-text-muted: #666;\n",
              "  --sklearn-color-line: gray;\n",
              "  /* Definition of color scheme for unfitted estimators */\n",
              "  --sklearn-color-unfitted-level-0: #fff5e6;\n",
              "  --sklearn-color-unfitted-level-1: #f6e4d2;\n",
              "  --sklearn-color-unfitted-level-2: #ffe0b3;\n",
              "  --sklearn-color-unfitted-level-3: chocolate;\n",
              "  /* Definition of color scheme for fitted estimators */\n",
              "  --sklearn-color-fitted-level-0: #f0f8ff;\n",
              "  --sklearn-color-fitted-level-1: #d4ebff;\n",
              "  --sklearn-color-fitted-level-2: #b3dbfd;\n",
              "  --sklearn-color-fitted-level-3: cornflowerblue;\n",
              "\n",
              "  /* Specific color for light theme */\n",
              "  --sklearn-color-text-on-default-background: var(--sg-text-color, var(--theme-code-foreground, var(--jp-content-font-color1, black)));\n",
              "  --sklearn-color-background: var(--sg-background-color, var(--theme-background, var(--jp-layout-color0, white)));\n",
              "  --sklearn-color-border-box: var(--sg-text-color, var(--theme-code-foreground, var(--jp-content-font-color1, black)));\n",
              "  --sklearn-color-icon: #696969;\n",
              "\n",
              "  @media (prefers-color-scheme: dark) {\n",
              "    /* Redefinition of color scheme for dark theme */\n",
              "    --sklearn-color-text-on-default-background: var(--sg-text-color, var(--theme-code-foreground, var(--jp-content-font-color1, white)));\n",
              "    --sklearn-color-background: var(--sg-background-color, var(--theme-background, var(--jp-layout-color0, #111)));\n",
              "    --sklearn-color-border-box: var(--sg-text-color, var(--theme-code-foreground, var(--jp-content-font-color1, white)));\n",
              "    --sklearn-color-icon: #878787;\n",
              "  }\n",
              "}\n",
              "\n",
              "#sk-container-id-1 {\n",
              "  color: var(--sklearn-color-text);\n",
              "}\n",
              "\n",
              "#sk-container-id-1 pre {\n",
              "  padding: 0;\n",
              "}\n",
              "\n",
              "#sk-container-id-1 input.sk-hidden--visually {\n",
              "  border: 0;\n",
              "  clip: rect(1px 1px 1px 1px);\n",
              "  clip: rect(1px, 1px, 1px, 1px);\n",
              "  height: 1px;\n",
              "  margin: -1px;\n",
              "  overflow: hidden;\n",
              "  padding: 0;\n",
              "  position: absolute;\n",
              "  width: 1px;\n",
              "}\n",
              "\n",
              "#sk-container-id-1 div.sk-dashed-wrapped {\n",
              "  border: 1px dashed var(--sklearn-color-line);\n",
              "  margin: 0 0.4em 0.5em 0.4em;\n",
              "  box-sizing: border-box;\n",
              "  padding-bottom: 0.4em;\n",
              "  background-color: var(--sklearn-color-background);\n",
              "}\n",
              "\n",
              "#sk-container-id-1 div.sk-container {\n",
              "  /* jupyter's `normalize.less` sets `[hidden] { display: none; }`\n",
              "     but bootstrap.min.css set `[hidden] { display: none !important; }`\n",
              "     so we also need the `!important` here to be able to override the\n",
              "     default hidden behavior on the sphinx rendered scikit-learn.org.\n",
              "     See: https://github.com/scikit-learn/scikit-learn/issues/21755 */\n",
              "  display: inline-block !important;\n",
              "  position: relative;\n",
              "}\n",
              "\n",
              "#sk-container-id-1 div.sk-text-repr-fallback {\n",
              "  display: none;\n",
              "}\n",
              "\n",
              "div.sk-parallel-item,\n",
              "div.sk-serial,\n",
              "div.sk-item {\n",
              "  /* draw centered vertical line to link estimators */\n",
              "  background-image: linear-gradient(var(--sklearn-color-text-on-default-background), var(--sklearn-color-text-on-default-background));\n",
              "  background-size: 2px 100%;\n",
              "  background-repeat: no-repeat;\n",
              "  background-position: center center;\n",
              "}\n",
              "\n",
              "/* Parallel-specific style estimator block */\n",
              "\n",
              "#sk-container-id-1 div.sk-parallel-item::after {\n",
              "  content: \"\";\n",
              "  width: 100%;\n",
              "  border-bottom: 2px solid var(--sklearn-color-text-on-default-background);\n",
              "  flex-grow: 1;\n",
              "}\n",
              "\n",
              "#sk-container-id-1 div.sk-parallel {\n",
              "  display: flex;\n",
              "  align-items: stretch;\n",
              "  justify-content: center;\n",
              "  background-color: var(--sklearn-color-background);\n",
              "  position: relative;\n",
              "}\n",
              "\n",
              "#sk-container-id-1 div.sk-parallel-item {\n",
              "  display: flex;\n",
              "  flex-direction: column;\n",
              "}\n",
              "\n",
              "#sk-container-id-1 div.sk-parallel-item:first-child::after {\n",
              "  align-self: flex-end;\n",
              "  width: 50%;\n",
              "}\n",
              "\n",
              "#sk-container-id-1 div.sk-parallel-item:last-child::after {\n",
              "  align-self: flex-start;\n",
              "  width: 50%;\n",
              "}\n",
              "\n",
              "#sk-container-id-1 div.sk-parallel-item:only-child::after {\n",
              "  width: 0;\n",
              "}\n",
              "\n",
              "/* Serial-specific style estimator block */\n",
              "\n",
              "#sk-container-id-1 div.sk-serial {\n",
              "  display: flex;\n",
              "  flex-direction: column;\n",
              "  align-items: center;\n",
              "  background-color: var(--sklearn-color-background);\n",
              "  padding-right: 1em;\n",
              "  padding-left: 1em;\n",
              "}\n",
              "\n",
              "\n",
              "/* Toggleable style: style used for estimator/Pipeline/ColumnTransformer box that is\n",
              "clickable and can be expanded/collapsed.\n",
              "- Pipeline and ColumnTransformer use this feature and define the default style\n",
              "- Estimators will overwrite some part of the style using the `sk-estimator` class\n",
              "*/\n",
              "\n",
              "/* Pipeline and ColumnTransformer style (default) */\n",
              "\n",
              "#sk-container-id-1 div.sk-toggleable {\n",
              "  /* Default theme specific background. It is overwritten whether we have a\n",
              "  specific estimator or a Pipeline/ColumnTransformer */\n",
              "  background-color: var(--sklearn-color-background);\n",
              "}\n",
              "\n",
              "/* Toggleable label */\n",
              "#sk-container-id-1 label.sk-toggleable__label {\n",
              "  cursor: pointer;\n",
              "  display: flex;\n",
              "  width: 100%;\n",
              "  margin-bottom: 0;\n",
              "  padding: 0.5em;\n",
              "  box-sizing: border-box;\n",
              "  text-align: center;\n",
              "  align-items: start;\n",
              "  justify-content: space-between;\n",
              "  gap: 0.5em;\n",
              "}\n",
              "\n",
              "#sk-container-id-1 label.sk-toggleable__label .caption {\n",
              "  font-size: 0.6rem;\n",
              "  font-weight: lighter;\n",
              "  color: var(--sklearn-color-text-muted);\n",
              "}\n",
              "\n",
              "#sk-container-id-1 label.sk-toggleable__label-arrow:before {\n",
              "  /* Arrow on the left of the label */\n",
              "  content: \"▸\";\n",
              "  float: left;\n",
              "  margin-right: 0.25em;\n",
              "  color: var(--sklearn-color-icon);\n",
              "}\n",
              "\n",
              "#sk-container-id-1 label.sk-toggleable__label-arrow:hover:before {\n",
              "  color: var(--sklearn-color-text);\n",
              "}\n",
              "\n",
              "/* Toggleable content - dropdown */\n",
              "\n",
              "#sk-container-id-1 div.sk-toggleable__content {\n",
              "  max-height: 0;\n",
              "  max-width: 0;\n",
              "  overflow: hidden;\n",
              "  text-align: left;\n",
              "  /* unfitted */\n",
              "  background-color: var(--sklearn-color-unfitted-level-0);\n",
              "}\n",
              "\n",
              "#sk-container-id-1 div.sk-toggleable__content.fitted {\n",
              "  /* fitted */\n",
              "  background-color: var(--sklearn-color-fitted-level-0);\n",
              "}\n",
              "\n",
              "#sk-container-id-1 div.sk-toggleable__content pre {\n",
              "  margin: 0.2em;\n",
              "  border-radius: 0.25em;\n",
              "  color: var(--sklearn-color-text);\n",
              "  /* unfitted */\n",
              "  background-color: var(--sklearn-color-unfitted-level-0);\n",
              "}\n",
              "\n",
              "#sk-container-id-1 div.sk-toggleable__content.fitted pre {\n",
              "  /* unfitted */\n",
              "  background-color: var(--sklearn-color-fitted-level-0);\n",
              "}\n",
              "\n",
              "#sk-container-id-1 input.sk-toggleable__control:checked~div.sk-toggleable__content {\n",
              "  /* Expand drop-down */\n",
              "  max-height: 200px;\n",
              "  max-width: 100%;\n",
              "  overflow: auto;\n",
              "}\n",
              "\n",
              "#sk-container-id-1 input.sk-toggleable__control:checked~label.sk-toggleable__label-arrow:before {\n",
              "  content: \"▾\";\n",
              "}\n",
              "\n",
              "/* Pipeline/ColumnTransformer-specific style */\n",
              "\n",
              "#sk-container-id-1 div.sk-label input.sk-toggleable__control:checked~label.sk-toggleable__label {\n",
              "  color: var(--sklearn-color-text);\n",
              "  background-color: var(--sklearn-color-unfitted-level-2);\n",
              "}\n",
              "\n",
              "#sk-container-id-1 div.sk-label.fitted input.sk-toggleable__control:checked~label.sk-toggleable__label {\n",
              "  background-color: var(--sklearn-color-fitted-level-2);\n",
              "}\n",
              "\n",
              "/* Estimator-specific style */\n",
              "\n",
              "/* Colorize estimator box */\n",
              "#sk-container-id-1 div.sk-estimator input.sk-toggleable__control:checked~label.sk-toggleable__label {\n",
              "  /* unfitted */\n",
              "  background-color: var(--sklearn-color-unfitted-level-2);\n",
              "}\n",
              "\n",
              "#sk-container-id-1 div.sk-estimator.fitted input.sk-toggleable__control:checked~label.sk-toggleable__label {\n",
              "  /* fitted */\n",
              "  background-color: var(--sklearn-color-fitted-level-2);\n",
              "}\n",
              "\n",
              "#sk-container-id-1 div.sk-label label.sk-toggleable__label,\n",
              "#sk-container-id-1 div.sk-label label {\n",
              "  /* The background is the default theme color */\n",
              "  color: var(--sklearn-color-text-on-default-background);\n",
              "}\n",
              "\n",
              "/* On hover, darken the color of the background */\n",
              "#sk-container-id-1 div.sk-label:hover label.sk-toggleable__label {\n",
              "  color: var(--sklearn-color-text);\n",
              "  background-color: var(--sklearn-color-unfitted-level-2);\n",
              "}\n",
              "\n",
              "/* Label box, darken color on hover, fitted */\n",
              "#sk-container-id-1 div.sk-label.fitted:hover label.sk-toggleable__label.fitted {\n",
              "  color: var(--sklearn-color-text);\n",
              "  background-color: var(--sklearn-color-fitted-level-2);\n",
              "}\n",
              "\n",
              "/* Estimator label */\n",
              "\n",
              "#sk-container-id-1 div.sk-label label {\n",
              "  font-family: monospace;\n",
              "  font-weight: bold;\n",
              "  display: inline-block;\n",
              "  line-height: 1.2em;\n",
              "}\n",
              "\n",
              "#sk-container-id-1 div.sk-label-container {\n",
              "  text-align: center;\n",
              "}\n",
              "\n",
              "/* Estimator-specific */\n",
              "#sk-container-id-1 div.sk-estimator {\n",
              "  font-family: monospace;\n",
              "  border: 1px dotted var(--sklearn-color-border-box);\n",
              "  border-radius: 0.25em;\n",
              "  box-sizing: border-box;\n",
              "  margin-bottom: 0.5em;\n",
              "  /* unfitted */\n",
              "  background-color: var(--sklearn-color-unfitted-level-0);\n",
              "}\n",
              "\n",
              "#sk-container-id-1 div.sk-estimator.fitted {\n",
              "  /* fitted */\n",
              "  background-color: var(--sklearn-color-fitted-level-0);\n",
              "}\n",
              "\n",
              "/* on hover */\n",
              "#sk-container-id-1 div.sk-estimator:hover {\n",
              "  /* unfitted */\n",
              "  background-color: var(--sklearn-color-unfitted-level-2);\n",
              "}\n",
              "\n",
              "#sk-container-id-1 div.sk-estimator.fitted:hover {\n",
              "  /* fitted */\n",
              "  background-color: var(--sklearn-color-fitted-level-2);\n",
              "}\n",
              "\n",
              "/* Specification for estimator info (e.g. \"i\" and \"?\") */\n",
              "\n",
              "/* Common style for \"i\" and \"?\" */\n",
              "\n",
              ".sk-estimator-doc-link,\n",
              "a:link.sk-estimator-doc-link,\n",
              "a:visited.sk-estimator-doc-link {\n",
              "  float: right;\n",
              "  font-size: smaller;\n",
              "  line-height: 1em;\n",
              "  font-family: monospace;\n",
              "  background-color: var(--sklearn-color-background);\n",
              "  border-radius: 1em;\n",
              "  height: 1em;\n",
              "  width: 1em;\n",
              "  text-decoration: none !important;\n",
              "  margin-left: 0.5em;\n",
              "  text-align: center;\n",
              "  /* unfitted */\n",
              "  border: var(--sklearn-color-unfitted-level-1) 1pt solid;\n",
              "  color: var(--sklearn-color-unfitted-level-1);\n",
              "}\n",
              "\n",
              ".sk-estimator-doc-link.fitted,\n",
              "a:link.sk-estimator-doc-link.fitted,\n",
              "a:visited.sk-estimator-doc-link.fitted {\n",
              "  /* fitted */\n",
              "  border: var(--sklearn-color-fitted-level-1) 1pt solid;\n",
              "  color: var(--sklearn-color-fitted-level-1);\n",
              "}\n",
              "\n",
              "/* On hover */\n",
              "div.sk-estimator:hover .sk-estimator-doc-link:hover,\n",
              ".sk-estimator-doc-link:hover,\n",
              "div.sk-label-container:hover .sk-estimator-doc-link:hover,\n",
              ".sk-estimator-doc-link:hover {\n",
              "  /* unfitted */\n",
              "  background-color: var(--sklearn-color-unfitted-level-3);\n",
              "  color: var(--sklearn-color-background);\n",
              "  text-decoration: none;\n",
              "}\n",
              "\n",
              "div.sk-estimator.fitted:hover .sk-estimator-doc-link.fitted:hover,\n",
              ".sk-estimator-doc-link.fitted:hover,\n",
              "div.sk-label-container:hover .sk-estimator-doc-link.fitted:hover,\n",
              ".sk-estimator-doc-link.fitted:hover {\n",
              "  /* fitted */\n",
              "  background-color: var(--sklearn-color-fitted-level-3);\n",
              "  color: var(--sklearn-color-background);\n",
              "  text-decoration: none;\n",
              "}\n",
              "\n",
              "/* Span, style for the box shown on hovering the info icon */\n",
              ".sk-estimator-doc-link span {\n",
              "  display: none;\n",
              "  z-index: 9999;\n",
              "  position: relative;\n",
              "  font-weight: normal;\n",
              "  right: .2ex;\n",
              "  padding: .5ex;\n",
              "  margin: .5ex;\n",
              "  width: min-content;\n",
              "  min-width: 20ex;\n",
              "  max-width: 50ex;\n",
              "  color: var(--sklearn-color-text);\n",
              "  box-shadow: 2pt 2pt 4pt #999;\n",
              "  /* unfitted */\n",
              "  background: var(--sklearn-color-unfitted-level-0);\n",
              "  border: .5pt solid var(--sklearn-color-unfitted-level-3);\n",
              "}\n",
              "\n",
              ".sk-estimator-doc-link.fitted span {\n",
              "  /* fitted */\n",
              "  background: var(--sklearn-color-fitted-level-0);\n",
              "  border: var(--sklearn-color-fitted-level-3);\n",
              "}\n",
              "\n",
              ".sk-estimator-doc-link:hover span {\n",
              "  display: block;\n",
              "}\n",
              "\n",
              "/* \"?\"-specific style due to the `<a>` HTML tag */\n",
              "\n",
              "#sk-container-id-1 a.estimator_doc_link {\n",
              "  float: right;\n",
              "  font-size: 1rem;\n",
              "  line-height: 1em;\n",
              "  font-family: monospace;\n",
              "  background-color: var(--sklearn-color-background);\n",
              "  border-radius: 1rem;\n",
              "  height: 1rem;\n",
              "  width: 1rem;\n",
              "  text-decoration: none;\n",
              "  /* unfitted */\n",
              "  color: var(--sklearn-color-unfitted-level-1);\n",
              "  border: var(--sklearn-color-unfitted-level-1) 1pt solid;\n",
              "}\n",
              "\n",
              "#sk-container-id-1 a.estimator_doc_link.fitted {\n",
              "  /* fitted */\n",
              "  border: var(--sklearn-color-fitted-level-1) 1pt solid;\n",
              "  color: var(--sklearn-color-fitted-level-1);\n",
              "}\n",
              "\n",
              "/* On hover */\n",
              "#sk-container-id-1 a.estimator_doc_link:hover {\n",
              "  /* unfitted */\n",
              "  background-color: var(--sklearn-color-unfitted-level-3);\n",
              "  color: var(--sklearn-color-background);\n",
              "  text-decoration: none;\n",
              "}\n",
              "\n",
              "#sk-container-id-1 a.estimator_doc_link.fitted:hover {\n",
              "  /* fitted */\n",
              "  background-color: var(--sklearn-color-fitted-level-3);\n",
              "}\n",
              "</style><div id=\"sk-container-id-1\" class=\"sk-top-container\"><div class=\"sk-text-repr-fallback\"><pre>XGBClassifier(base_score=None, booster=None, callbacks=None,\n",
              "              colsample_bylevel=None, colsample_bynode=None,\n",
              "              colsample_bytree=0.8, device=None, early_stopping_rounds=None,\n",
              "              enable_categorical=False, eval_metric=&#x27;logloss&#x27;,\n",
              "              feature_types=None, gamma=None, grow_policy=None,\n",
              "              importance_type=None, interaction_constraints=None,\n",
              "              learning_rate=0.01, max_bin=None, max_cat_threshold=None,\n",
              "              max_cat_to_onehot=None, max_delta_step=None, max_depth=3,\n",
              "              max_leaves=None, min_child_weight=None, missing=nan,\n",
              "              monotone_constraints=None, multi_strategy=None, n_estimators=100,\n",
              "              n_jobs=None, num_parallel_tree=None, random_state=42, ...)</pre><b>In a Jupyter environment, please rerun this cell to show the HTML representation or trust the notebook. <br />On GitHub, the HTML representation is unable to render, please try loading this page with nbviewer.org.</b></div><div class=\"sk-container\" hidden><div class=\"sk-item\"><div class=\"sk-estimator fitted sk-toggleable\"><input class=\"sk-toggleable__control sk-hidden--visually\" id=\"sk-estimator-id-1\" type=\"checkbox\" checked><label for=\"sk-estimator-id-1\" class=\"sk-toggleable__label fitted sk-toggleable__label-arrow\"><div><div>XGBClassifier</div></div><div><span class=\"sk-estimator-doc-link fitted\">i<span>Fitted</span></span></div></label><div class=\"sk-toggleable__content fitted\"><pre>XGBClassifier(base_score=None, booster=None, callbacks=None,\n",
              "              colsample_bylevel=None, colsample_bynode=None,\n",
              "              colsample_bytree=0.8, device=None, early_stopping_rounds=None,\n",
              "              enable_categorical=False, eval_metric=&#x27;logloss&#x27;,\n",
              "              feature_types=None, gamma=None, grow_policy=None,\n",
              "              importance_type=None, interaction_constraints=None,\n",
              "              learning_rate=0.01, max_bin=None, max_cat_threshold=None,\n",
              "              max_cat_to_onehot=None, max_delta_step=None, max_depth=3,\n",
              "              max_leaves=None, min_child_weight=None, missing=nan,\n",
              "              monotone_constraints=None, multi_strategy=None, n_estimators=100,\n",
              "              n_jobs=None, num_parallel_tree=None, random_state=42, ...)</pre></div> </div></div></div></div>"
            ]
          },
          "metadata": {},
          "execution_count": 27
        }
      ]
    },
    {
      "cell_type": "code",
      "source": [
        "y_pred = best_xgb.predict(x_test_top)\n",
        "\n",
        "print(\"Confusion Matrix:\")\n",
        "print(confusion_matrix(y_test, y_pred))\n",
        "\n",
        "print(\"\\nAccuracy:\")\n",
        "print(accuracy_score(y_test, y_pred))\n",
        "\n",
        "print(\"\\nClassification Report:\")\n",
        "print(classification_report(y_test, y_pred))\n"
      ],
      "metadata": {
        "colab": {
          "base_uri": "https://localhost:8080/"
        },
        "id": "oOd0KZaftNrY",
        "outputId": "6d99413c-210b-4756-8dbe-b8137970d56d"
      },
      "execution_count": null,
      "outputs": [
        {
          "output_type": "stream",
          "name": "stdout",
          "text": [
            "Confusion Matrix:\n",
            "[[75677 49741]\n",
            " [  275 74307]]\n",
            "\n",
            "Accuracy:\n",
            "0.74992\n",
            "\n",
            "Classification Report:\n",
            "              precision    recall  f1-score   support\n",
            "\n",
            "           0       1.00      0.60      0.75    125418\n",
            "           1       0.60      1.00      0.75     74582\n",
            "\n",
            "    accuracy                           0.75    200000\n",
            "   macro avg       0.80      0.80      0.75    200000\n",
            "weighted avg       0.85      0.75      0.75    200000\n",
            "\n"
          ]
        }
      ]
    },
    {
      "cell_type": "markdown",
      "metadata": {
        "id": "XdzTCY7_lIIH"
      },
      "source": [
        "\n"
      ]
    },
    {
      "cell_type": "markdown",
      "source": [
        "Class Distribution After Applying SMOTE"
      ],
      "metadata": {
        "id": "_k7RzKzGEqcK"
      }
    },
    {
      "cell_type": "code",
      "execution_count": null,
      "metadata": {
        "colab": {
          "base_uri": "https://localhost:8080/",
          "height": 457
        },
        "id": "7JuqcHCebjFq",
        "outputId": "ceec84d3-8d38-46ff-c646-e6a2995b06fa"
      },
      "outputs": [
        {
          "output_type": "display_data",
          "data": {
            "text/plain": [
              "<Figure size 640x480 with 1 Axes>"
            ],
            "image/png": "[encoded data removed]"
          },
          "metadata": {}
        }
      ],
      "source": [
        "from collections import Counter\n",
        "import matplotlib.pyplot as plt\n",
        "\n",
        "# Count after SMOTE\n",
        "smote_counts = Counter(y_train_res)\n",
        "\n",
        "# Plot\n",
        "plt.bar(smote_counts.keys(), smote_counts.values(), color=['skyblue', 'lightgreen'])\n",
        "plt.title(\"After SMOTE - Class Distribution\")\n",
        "plt.xticks([0, 1], labels=['Not Approved (0)', 'Approved (1)'])\n",
        "plt.ylabel('Count')\n",
        "\n",
        "# Add count labels on bars\n",
        "for i, v in enumerate(smote_counts.values()):\n",
        "    plt.text(i, v + 1000, f\"{v:,}\", ha='center', fontweight='bold')\n",
        "\n",
        "plt.show()\n"
      ]
    },
    {
      "cell_type": "markdown",
      "metadata": {
        "id": "Q5kx6-0-gTDc"
      },
      "source": [
        "After applying SMOTE, both classes — Approved (1) and Not Approved (0) — now contain exactly 501,413 samples, resolving the class imbalance issue.\n",
        "\n",
        "📉 Previously, loan approval status was imbalanced, which could bias the model. SMOTE helped synthesize realistic new samples for the minority class.\n",
        "\n",
        "📈 This balancing helps improve recall and F1-score for the underrepresented class, especially important in credit risk analysis.\n",
        "\n",
        "✅ The model is now fairer and more capable of identifying both approved and non-approved cases correctly.\n",
        "\n",
        "🧠 Balancing with SMOTE is a critical step before training tree-based classifiers like XGBoost to avoid bias toward the majority class.\n",
        "\n"
      ]
    },
    {
      "cell_type": "code",
      "execution_count": null,
      "metadata": {
        "id": "HITFgs2fgSk-"
      },
      "outputs": [],
      "source": []
    },
    {
      "cell_type": "markdown",
      "metadata": {
        "id": "2bjqvfCmRDBo"
      },
      "source": [
        "# Feature Selection using XGBoost"
      ]
    },
    {
      "cell_type": "markdown",
      "source": [
        "Plot Top 30 Features After Hyperparameter Tuning"
      ],
      "metadata": {
        "id": "AjOFg5FHwzBG"
      }
    },
    {
      "cell_type": "code",
      "source": [
        "import matplotlib.pyplot as plt\n",
        "import pandas as pd\n",
        "\n",
        "# ✅ Use the best model from hyperparameter tuning\n",
        "xgb_tuned_model = random_search.best_estimator_\n",
        "\n",
        "# ✅ Get feature importances from the booster\n",
        "booster = xgb_tuned_model.get_booster()\n",
        "importance = booster.get_score(importance_type='weight')\n",
        "\n",
        "# ✅ Convert to DataFrame and sort\n",
        "importance_df = pd.DataFrame(importance.items(), columns=['Feature', 'F_score'])\n",
        "importance_df = importance_df.sort_values(by='F_score', ascending=False).head(30)\n",
        "\n",
        "# ✅ Plot\n",
        "plt.figure(figsize=(10, 12))\n",
        "plt.barh(importance_df['Feature'], importance_df['F_score'], color='skyblue')\n",
        "\n",
        "# ✅ Add value labels\n",
        "for i, v in enumerate(importance_df['F_score']):\n",
        "    plt.text(v + 1, i, str(v), va='center', fontsize=8)\n",
        "\n",
        "plt.xlabel(\"F score\")\n",
        "plt.ylabel(\"Features\")\n",
        "plt.title(\"Top 30 Important Features - XGBoost (After Hyperparameter Tuning)\")\n",
        "plt.gca().invert_yaxis()\n",
        "plt.tight_layout()\n",
        "plt.show()\n"
      ],
      "metadata": {
        "colab": {
          "base_uri": "https://localhost:8080/",
          "height": 1000
        },
        "id": "GlCJtL4vwV7e",
        "outputId": "aa80a816-579a-4527-b5f6-dac16833619d"
      },
      "execution_count": null,
      "outputs": [
        {
          "output_type": "display_data",
          "data": {
            "text/plain": [
              "<Figure size 1000x1200 with 1 Axes>"
            ],
            "image/png": "[encoded data removed]"
          },
          "metadata": {}
        }
      ]
    },
    {
      "cell_type": "markdown",
      "source": [
        "\n",
        "\n",
        "1.   The chart displays the top 30 most important features based on the optimized XGBoost model\n",
        "\n",
        "2.   AnnualIncome emerged as the most influential feature with the highest F-score (~230), indicating strong predictive power.\n",
        "\n",
        "3.   CreditScore also played a critical role, with an F-score of ~118, showing its consistent value in assessing loan default risk\n",
        "\n",
        "4.   Feature importance was determined using the weight metric, which counts the number of times a feature is used in trees\n",
        "\n",
        "5.   Hyperparameter tuning helped the model focus more effectively on important variables, improving overall model accuracy and interpretability\n",
        "\n",
        "\n",
        "\n",
        "\n",
        "\n",
        "\n"
      ],
      "metadata": {
        "id": "3TNzll5Byi6D"
      }
    },
    {
      "cell_type": "markdown",
      "metadata": {
        "id": "26B7IgmiQMJC"
      },
      "source": [
        "# Model Evaluation\n",
        "\n"
      ]
    },
    {
      "cell_type": "markdown",
      "source": [
        "ROC Curve – Tuned XGBoost Model"
      ],
      "metadata": {
        "id": "kDo1hgoIERUe"
      }
    },
    {
      "cell_type": "code",
      "source": [
        "from sklearn.metrics import roc_curve, roc_auc_score\n",
        "import matplotlib.pyplot as plt\n",
        "\n",
        "# Get predicted probabilities for positive class (1)\n",
        "y_scores = best_xgb.predict_proba(x_test_top)[:, 1]\n",
        "\n",
        "# Compute ROC curve and AUC\n",
        "fpr, tpr, _ = roc_curve(y_test, y_scores)\n",
        "auc_score = roc_auc_score(y_test, y_scores)\n",
        "\n",
        "# Plot\n",
        "plt.figure(figsize=(8, 6))\n",
        "plt.plot(fpr, tpr, color='blue', label=f'XGBoost Tuned (AUC = {auc_score:.2f})')\n",
        "plt.plot([0, 1], [0, 1], linestyle='--', color='gray', label='Random Classifier')\n",
        "plt.xlabel('False Positive Rate')\n",
        "plt.ylabel('True Positive Rate')\n",
        "plt.title('ROC Curve - XGBoost After Tuning')\n",
        "plt.legend(loc='lower right')\n",
        "plt.grid(True)\n",
        "plt.tight_layout()\n",
        "plt.show()\n"
      ],
      "metadata": {
        "colab": {
          "base_uri": "https://localhost:8080/",
          "height": 601
        },
        "id": "HwwoF2J12v0b",
        "outputId": "b763a7b0-0ac3-422f-e08c-a00914a3dbfe"
      },
      "execution_count": null,
      "outputs": [
        {
          "output_type": "display_data",
          "data": {
            "text/plain": [
              "<Figure size 800x600 with 1 Axes>"
            ],
            "image/png": "[encoded data removed]"
          },
          "metadata": {}
        }
      ]
    },
    {
      "cell_type": "markdown",
      "source": [
        "\n",
        "\n",
        "1.   The AUC (Area Under Curve) is 0.80, indicating strong model performance in distinguishing between classes even after tuning\n",
        "\n",
        "2.   The ROC curve shows a high True Positive Rate with relatively low False Positive Rate, reflecting effective classification ability\n",
        "\n",
        "\n",
        "3.   Hyperparameter tuning stabilized the model’s performance while maintaining a strong AUC, ensuring reliable predictions\n",
        "\n",
        "4.   The curve is significantly above the diagonal baseline (AUC = 0.5), proving that the model performs better than random guessing\n",
        "\n",
        "5.  Despite similar AUC, tuning enhanced model precision-recall balance, making the predictions more trustworthy in real-world applications.\n",
        "\n",
        "\n",
        "\n",
        "\n",
        "\n",
        "\n"
      ],
      "metadata": {
        "id": "r96tgF5f3qeM"
      }
    },
    {
      "cell_type": "code",
      "source": [],
      "metadata": {
        "id": "XsEu4oFO8UfL"
      },
      "execution_count": null,
      "outputs": []
    },
    {
      "cell_type": "markdown",
      "source": [
        "Precision-Recall Curve (XGBoost After Hyperparameter Tuning)"
      ],
      "metadata": {
        "id": "_ViVGGR8D4IE"
      }
    },
    {
      "cell_type": "code",
      "source": [
        "from sklearn.metrics import precision_recall_curve, average_precision_score\n",
        "import matplotlib.pyplot as plt\n",
        "\n",
        "# ✅ Ensure you're using the same top features as training\n",
        "top_features = x_train_res.columns\n",
        "x_test_top = x_test[top_features]\n",
        "\n",
        "# ✅ Get predicted probabilities for class 1\n",
        "y_scores = best_xgb.predict_proba(x_test_top)[:, 1]\n",
        "\n",
        "# ✅ Compute precision, recall\n",
        "precision, recall, _ = precision_recall_curve(y_test, y_scores)\n",
        "avg_precision = average_precision_score(y_test, y_scores)\n",
        "\n",
        "# ✅ Plot Precision-Recall Curve\n",
        "plt.figure(figsize=(8, 6))\n",
        "plt.plot(recall, precision, color='darkorange', linewidth=2,\n",
        "         label=f'Average Precision = {avg_precision:.2f}')\n",
        "plt.xlabel('Recall')\n",
        "plt.ylabel('Precision')\n",
        "plt.title('Precision-Recall Curve (XGBoost - Final Tuned Model)')\n",
        "plt.legend(loc='upper right')\n",
        "plt.grid(True)\n",
        "plt.tight_layout()\n",
        "plt.show()\n"
      ],
      "metadata": {
        "colab": {
          "base_uri": "https://localhost:8080/",
          "height": 601
        },
        "id": "BHP3QCpl8-Ez",
        "outputId": "f4d8046f-1235-4944-a659-bb1536f7a93d"
      },
      "execution_count": null,
      "outputs": [
        {
          "output_type": "display_data",
          "data": {
            "text/plain": [
              "<Figure size 800x600 with 1 Axes>"
            ],
            "image/png": "[encoded data removed]"
          },
          "metadata": {}
        }
      ]
    },
    {
      "cell_type": "markdown",
      "source": [
        "\n",
        "\n",
        "1.   This chart shows the Precision-Recall Curve generated after applying SMOTE and performing hyperparameter tuning on the XGBoost model.\n",
        "\n",
        "2.   The Average Precision (AP) score is 0.598, which summarizes the precision-recall trade-off across different thresholds\n",
        "\n",
        "3.   The model demonstrates very high precision at low recall, meaning the most confident predictions are highly accurate\n",
        "\n",
        "4.   Precision drops gradually as recall increases, which is expected as the model tries to identify more positive cases.\n",
        "\n",
        "5.   Although tuning improved the model’s overall performance (accuracy and generalization), the AP score remains similar to the pre-tuned model (≈0.60), suggesting model ranking confidence remains consistent.\n",
        "6.   This chart helps evaluate model performance in cases of class imbalance, where Precision and Recall are more informative than Accuracy.\n",
        "\n",
        "\n",
        "\n",
        "\n",
        "\n",
        "\n",
        "\n"
      ],
      "metadata": {
        "id": "WLBWgDzyCguk"
      }
    },
    {
      "cell_type": "code",
      "execution_count": null,
      "metadata": {
        "id": "R-d7oeo7UbfM"
      },
      "outputs": [],
      "source": []
    },
    {
      "cell_type": "markdown",
      "source": [
        "Model Performance Comparison: Random Forest vs XGBoost (Before and After Hyperparameter Tuning)"
      ],
      "metadata": {
        "id": "f6_GI7RRKF1T"
      }
    },
    {
      "cell_type": "code",
      "source": [
        "import pandas as pd\n",
        "from IPython.display import display\n",
        "\n",
        "# Create a dictionary with model comparison metrics\n",
        "comparison_data = {\n",
        "    \"Metric\": [\"Accuracy\", \"Precision (Class 1)\", \"Recall (Class 1)\", \"AUC Score\", \"Average Precision\"],\n",
        "    \"Random Forest\": [\"75.12%\", \"0.60\", \"1.00\", \"0.80\", \"0.60\"],\n",
        "    \"XGBoost (Before Tuning)\": [\"74.47%\", \"0.60\", \"0.95\", \"0.80\", \"0.60\"],\n",
        "    \"XGBoost (After Tuning)\": [\"74.99%\", \"0.60\", \"1.00\", \"0.80\", \"0.60\"]\n",
        "}\n",
        "\n",
        "# Create DataFrame\n",
        "comparison_df = pd.DataFrame(comparison_data)\n",
        "\n",
        "# Display as a table\n",
        "display(comparison_df)\n"
      ],
      "metadata": {
        "colab": {
          "base_uri": "https://localhost:8080/",
          "height": 206
        },
        "id": "I00wC-NHJ0fc",
        "outputId": "48fab17e-0244-4462-8b06-dd3ed530d957"
      },
      "execution_count": null,
      "outputs": [
        {
          "output_type": "display_data",
          "data": {
            "text/plain": [
              "                Metric Random Forest XGBoost (Before Tuning)  \\\n",
              "0             Accuracy        75.12%                  74.47%   \n",
              "1  Precision (Class 1)          0.60                    0.60   \n",
              "2     Recall (Class 1)          1.00                    0.95   \n",
              "3            AUC Score          0.80                    0.80   \n",
              "4    Average Precision          0.60                    0.60   \n",
              "\n",
              "  XGBoost (After Tuning)  \n",
              "0                 74.99%  \n",
              "1                   0.60  \n",
              "2                   1.00  \n",
              "3                   0.80  \n",
              "4                   0.60  "
            ],
            "text/html": [
              "\n",
              "  <div id=\"df-1155b70d-1581-4686-a8e1-4ab8ce4ce7c1\" class=\"colab-df-container\">\n",
              "    <div>\n",
              "<style scoped>\n",
              "    .dataframe tbody tr th:only-of-type {\n",
              "        vertical-align: middle;\n",
              "    }\n",
              "\n",
              "    .dataframe tbody tr th {\n",
              "        vertical-align: top;\n",
              "    }\n",
              "\n",
              "    .dataframe thead th {\n",
              "        text-align: right;\n",
              "    }\n",
              "</style>\n",
              "<table border=\"1\" class=\"dataframe\">\n",
              "  <thead>\n",
              "    <tr style=\"text-align: right;\">\n",
              "      <th></th>\n",
              "      <th>Metric</th>\n",
              "      <th>Random Forest</th>\n",
              "      <th>XGBoost (Before Tuning)</th>\n",
              "      <th>XGBoost (After Tuning)</th>\n",
              "    </tr>\n",
              "  </thead>\n",
              "  <tbody>\n",
              "    <tr>\n",
              "      <th>0</th>\n",
              "      <td>Accuracy</td>\n",
              "      <td>75.12%</td>\n",
              "      <td>74.47%</td>\n",
              "      <td>74.99%</td>\n",
              "    </tr>\n",
              "    <tr>\n",
              "      <th>1</th>\n",
              "      <td>Precision (Class 1)</td>\n",
              "      <td>0.60</td>\n",
              "      <td>0.60</td>\n",
              "      <td>0.60</td>\n",
              "    </tr>\n",
              "    <tr>\n",
              "      <th>2</th>\n",
              "      <td>Recall (Class 1)</td>\n",
              "      <td>1.00</td>\n",
              "      <td>0.95</td>\n",
              "      <td>1.00</td>\n",
              "    </tr>\n",
              "    <tr>\n",
              "      <th>3</th>\n",
              "      <td>AUC Score</td>\n",
              "      <td>0.80</td>\n",
              "      <td>0.80</td>\n",
              "      <td>0.80</td>\n",
              "    </tr>\n",
              "    <tr>\n",
              "      <th>4</th>\n",
              "      <td>Average Precision</td>\n",
              "      <td>0.60</td>\n",
              "      <td>0.60</td>\n",
              "      <td>0.60</td>\n",
              "    </tr>\n",
              "  </tbody>\n",
              "</table>\n",
              "</div>\n",
              "    <div class=\"colab-df-buttons\">\n",
              "\n",
              "  <div class=\"colab-df-container\">\n",
              "    <button class=\"colab-df-convert\" onclick=\"convertToInteractive('df-1155b70d-1581-4686-a8e1-4ab8ce4ce7c1')\"\n",
              "            title=\"Convert this dataframe to an interactive table.\"\n",
              "            style=\"display:none;\">\n",
              "\n",
              "  <svg xmlns=\"http://www.w3.org/2000/svg\" height=\"24px\" viewBox=\"0 -960 960 960\">\n",
              "    <path d=\"M120-120v-720h720v720H120Zm60-500h600v-160H180v160Zm220 220h160v-160H400v160Zm0 220h160v-160H400v160ZM180-400h160v-160H180v160Zm440 0h160v-160H620v160ZM180-180h160v-160H180v160Zm440 0h160v-160H620v160Z\"/>\n",
              "  </svg>\n",
              "    </button>\n",
              "\n",
              "  <style>\n",
              "    .colab-df-container {\n",
              "      display:flex;\n",
              "      gap: 12px;\n",
              "    }\n",
              "\n",
              "    .colab-df-convert {\n",
              "      background-color: #E8F0FE;\n",
              "      border: none;\n",
              "      border-radius: 50%;\n",
              "      cursor: pointer;\n",
              "      display: none;\n",
              "      fill: #1967D2;\n",
              "      height: 32px;\n",
              "      padding: 0 0 0 0;\n",
              "      width: 32px;\n",
              "    }\n",
              "\n",
              "    .colab-df-convert:hover {\n",
              "      background-color: #E2EBFA;\n",
              "      box-shadow: 0px 1px 2px rgba(60, 64, 67, 0.3), 0px 1px 3px 1px rgba(60, 64, 67, 0.15);\n",
              "      fill: #174EA6;\n",
              "    }\n",
              "\n",
              "    .colab-df-buttons div {\n",
              "      margin-bottom: 4px;\n",
              "    }\n",
              "\n",
              "    [theme=dark] .colab-df-convert {\n",
              "      background-color: #3B4455;\n",
              "      fill: #D2E3FC;\n",
              "    }\n",
              "\n",
              "    [theme=dark] .colab-df-convert:hover {\n",
              "      background-color: #434B5C;\n",
              "      box-shadow: 0px 1px 3px 1px rgba(0, 0, 0, 0.15);\n",
              "      filter: drop-shadow(0px 1px 2px rgba(0, 0, 0, 0.3));\n",
              "      fill: #FFFFFF;\n",
              "    }\n",
              "  </style>\n",
              "\n",
              "    <script>\n",
              "      const buttonEl =\n",
              "        document.querySelector('#df-1155b70d-1581-4686-a8e1-4ab8ce4ce7c1 button.colab-df-convert');\n",
              "      buttonEl.style.display =\n",
              "        google.colab.kernel.accessAllowed ? 'block' : 'none';\n",
              "\n",
              "      async function convertToInteractive(key) {\n",
              "        const element = document.querySelector('#df-1155b70d-1581-4686-a8e1-4ab8ce4ce7c1');\n",
              "        const dataTable =\n",
              "          await google.colab.kernel.invokeFunction('convertToInteractive',\n",
              "                                                    [key], {});\n",
              "        if (!dataTable) return;\n",
              "\n",
              "        const docLinkHtml = 'Like what you see? Visit the ' +\n",
              "          '<a target=\"_blank\" href=https://colab.research.google.com/notebooks/data_table.ipynb>data table notebook</a>'\n",
              "          + ' to learn more about interactive tables.';\n",
              "        element.innerHTML = '';\n",
              "        dataTable['output_type'] = 'display_data';\n",
              "        await google.colab.output.renderOutput(dataTable, element);\n",
              "        const docLink = document.createElement('div');\n",
              "        docLink.innerHTML = docLinkHtml;\n",
              "        element.appendChild(docLink);\n",
              "      }\n",
              "    </script>\n",
              "  </div>\n",
              "\n",
              "\n",
              "    <div id=\"df-69fc37b0-52c6-4a3a-a4db-7f2609f45c4f\">\n",
              "      <button class=\"colab-df-quickchart\" onclick=\"quickchart('df-69fc37b0-52c6-4a3a-a4db-7f2609f45c4f')\"\n",
              "                title=\"Suggest charts\"\n",
              "                style=\"display:none;\">\n",
              "\n",
              "<svg xmlns=\"http://www.w3.org/2000/svg\" height=\"24px\"viewBox=\"0 0 24 24\"\n",
              "     width=\"24px\">\n",
              "    <g>\n",
              "        <path d=\"M19 3H5c-1.1 0-2 .9-2 2v14c0 1.1.9 2 2 2h14c1.1 0 2-.9 2-2V5c0-1.1-.9-2-2-2zM9 17H7v-7h2v7zm4 0h-2V7h2v10zm4 0h-2v-4h2v4z\"/>\n",
              "    </g>\n",
              "</svg>\n",
              "      </button>\n",
              "\n",
              "<style>\n",
              "  .colab-df-quickchart {\n",
              "      --bg-color: #E8F0FE;\n",
              "      --fill-color: #1967D2;\n",
              "      --hover-bg-color: #E2EBFA;\n",
              "      --hover-fill-color: #174EA6;\n",
              "      --disabled-fill-color: #AAA;\n",
              "      --disabled-bg-color: #DDD;\n",
              "  }\n",
              "\n",
              "  [theme=dark] .colab-df-quickchart {\n",
              "      --bg-color: #3B4455;\n",
              "      --fill-color: #D2E3FC;\n",
              "      --hover-bg-color: #434B5C;\n",
              "      --hover-fill-color: #FFFFFF;\n",
              "      --disabled-bg-color: #3B4455;\n",
              "      --disabled-fill-color: #666;\n",
              "  }\n",
              "\n",
              "  .colab-df-quickchart {\n",
              "    background-color: var(--bg-color);\n",
              "    border: none;\n",
              "    border-radius: 50%;\n",
              "    cursor: pointer;\n",
              "    display: none;\n",
              "    fill: var(--fill-color);\n",
              "    height: 32px;\n",
              "    padding: 0;\n",
              "    width: 32px;\n",
              "  }\n",
              "\n",
              "  .colab-df-quickchart:hover {\n",
              "    background-color: var(--hover-bg-color);\n",
              "    box-shadow: 0 1px 2px rgba(60, 64, 67, 0.3), 0 1px 3px 1px rgba(60, 64, 67, 0.15);\n",
              "    fill: var(--button-hover-fill-color);\n",
              "  }\n",
              "\n",
              "  .colab-df-quickchart-complete:disabled,\n",
              "  .colab-df-quickchart-complete:disabled:hover {\n",
              "    background-color: var(--disabled-bg-color);\n",
              "    fill: var(--disabled-fill-color);\n",
              "    box-shadow: none;\n",
              "  }\n",
              "\n",
              "  .colab-df-spinner {\n",
              "    border: 2px solid var(--fill-color);\n",
              "    border-color: transparent;\n",
              "    border-bottom-color: var(--fill-color);\n",
              "    animation:\n",
              "      spin 1s steps(1) infinite;\n",
              "  }\n",
              "\n",
              "  @keyframes spin {\n",
              "    0% {\n",
              "      border-color: transparent;\n",
              "      border-bottom-color: var(--fill-color);\n",
              "      border-left-color: var(--fill-color);\n",
              "    }\n",
              "    20% {\n",
              "      border-color: transparent;\n",
              "      border-left-color: var(--fill-color);\n",
              "      border-top-color: var(--fill-color);\n",
              "    }\n",
              "    30% {\n",
              "      border-color: transparent;\n",
              "      border-left-color: var(--fill-color);\n",
              "      border-top-color: var(--fill-color);\n",
              "      border-right-color: var(--fill-color);\n",
              "    }\n",
              "    40% {\n",
              "      border-color: transparent;\n",
              "      border-right-color: var(--fill-color);\n",
              "      border-top-color: var(--fill-color);\n",
              "    }\n",
              "    60% {\n",
              "      border-color: transparent;\n",
              "      border-right-color: var(--fill-color);\n",
              "    }\n",
              "    80% {\n",
              "      border-color: transparent;\n",
              "      border-right-color: var(--fill-color);\n",
              "      border-bottom-color: var(--fill-color);\n",
              "    }\n",
              "    90% {\n",
              "      border-color: transparent;\n",
              "      border-bottom-color: var(--fill-color);\n",
              "    }\n",
              "  }\n",
              "</style>\n",
              "\n",
              "      <script>\n",
              "        async function quickchart(key) {\n",
              "          const quickchartButtonEl =\n",
              "            document.querySelector('#' + key + ' button');\n",
              "          quickchartButtonEl.disabled = true;  // To prevent multiple clicks.\n",
              "          quickchartButtonEl.classList.add('colab-df-spinner');\n",
              "          try {\n",
              "            const charts = await google.colab.kernel.invokeFunction(\n",
              "                'suggestCharts', [key], {});\n",
              "          } catch (error) {\n",
              "            console.error('Error during call to suggestCharts:', error);\n",
              "          }\n",
              "          quickchartButtonEl.classList.remove('colab-df-spinner');\n",
              "          quickchartButtonEl.classList.add('colab-df-quickchart-complete');\n",
              "        }\n",
              "        (() => {\n",
              "          let quickchartButtonEl =\n",
              "            document.querySelector('#df-69fc37b0-52c6-4a3a-a4db-7f2609f45c4f button');\n",
              "          quickchartButtonEl.style.display =\n",
              "            google.colab.kernel.accessAllowed ? 'block' : 'none';\n",
              "        })();\n",
              "      </script>\n",
              "    </div>\n",
              "\n",
              "  <div id=\"id_c26d5855-9f1d-4dc4-b17b-461bceadeeae\">\n",
              "    <style>\n",
              "      .colab-df-generate {\n",
              "        background-color: #E8F0FE;\n",
              "        border: none;\n",
              "        border-radius: 50%;\n",
              "        cursor: pointer;\n",
              "        display: none;\n",
              "        fill: #1967D2;\n",
              "        height: 32px;\n",
              "        padding: 0 0 0 0;\n",
              "        width: 32px;\n",
              "      }\n",
              "\n",
              "      .colab-df-generate:hover {\n",
              "        background-color: #E2EBFA;\n",
              "        box-shadow: 0px 1px 2px rgba(60, 64, 67, 0.3), 0px 1px 3px 1px rgba(60, 64, 67, 0.15);\n",
              "        fill: #174EA6;\n",
              "      }\n",
              "\n",
              "      [theme=dark] .colab-df-generate {\n",
              "        background-color: #3B4455;\n",
              "        fill: #D2E3FC;\n",
              "      }\n",
              "\n",
              "      [theme=dark] .colab-df-generate:hover {\n",
              "        background-color: #434B5C;\n",
              "        box-shadow: 0px 1px 3px 1px rgba(0, 0, 0, 0.15);\n",
              "        filter: drop-shadow(0px 1px 2px rgba(0, 0, 0, 0.3));\n",
              "        fill: #FFFFFF;\n",
              "      }\n",
              "    </style>\n",
              "    <button class=\"colab-df-generate\" onclick=\"generateWithVariable('comparison_df')\"\n",
              "            title=\"Generate code using this dataframe.\"\n",
              "            style=\"display:none;\">\n",
              "\n",
              "  <svg xmlns=\"http://www.w3.org/2000/svg\" height=\"24px\"viewBox=\"0 0 24 24\"\n",
              "       width=\"24px\">\n",
              "    <path d=\"M7,19H8.4L18.45,9,17,7.55,7,17.6ZM5,21V16.75L18.45,3.32a2,2,0,0,1,2.83,0l1.4,1.43a1.91,1.91,0,0,1,.58,1.4,1.91,1.91,0,0,1-.58,1.4L9.25,21ZM18.45,9,17,7.55Zm-12,3A5.31,5.31,0,0,0,4.9,8.1,5.31,5.31,0,0,0,1,6.5,5.31,5.31,0,0,0,4.9,4.9,5.31,5.31,0,0,0,6.5,1,5.31,5.31,0,0,0,8.1,4.9,5.31,5.31,0,0,0,12,6.5,5.46,5.46,0,0,0,6.5,12Z\"/>\n",
              "  </svg>\n",
              "    </button>\n",
              "    <script>\n",
              "      (() => {\n",
              "      const buttonEl =\n",
              "        document.querySelector('#id_c26d5855-9f1d-4dc4-b17b-461bceadeeae button.colab-df-generate');\n",
              "      buttonEl.style.display =\n",
              "        google.colab.kernel.accessAllowed ? 'block' : 'none';\n",
              "\n",
              "      buttonEl.onclick = () => {\n",
              "        google.colab.notebook.generateWithVariable('comparison_df');\n",
              "      }\n",
              "      })();\n",
              "    </script>\n",
              "  </div>\n",
              "\n",
              "    </div>\n",
              "  </div>\n"
            ],
            "application/vnd.google.colaboratory.intrinsic+json": {
              "type": "dataframe",
              "variable_name": "comparison_df",
              "summary": "{\n  \"name\": \"comparison_df\",\n  \"rows\": 5,\n  \"fields\": [\n    {\n      \"column\": \"Metric\",\n      \"properties\": {\n        \"dtype\": \"string\",\n        \"num_unique_values\": 5,\n        \"samples\": [\n          \"Precision (Class 1)\",\n          \"Average Precision\",\n          \"Recall (Class 1)\"\n        ],\n        \"semantic_type\": \"\",\n        \"description\": \"\"\n      }\n    },\n    {\n      \"column\": \"Random Forest\",\n      \"properties\": {\n        \"dtype\": \"string\",\n        \"num_unique_values\": 4,\n        \"samples\": [\n          \"0.60\",\n          \"0.80\",\n          \"75.12%\"\n        ],\n        \"semantic_type\": \"\",\n        \"description\": \"\"\n      }\n    },\n    {\n      \"column\": \"XGBoost (Before Tuning)\",\n      \"properties\": {\n        \"dtype\": \"string\",\n        \"num_unique_values\": 4,\n        \"samples\": [\n          \"0.60\",\n          \"0.80\",\n          \"74.47%\"\n        ],\n        \"semantic_type\": \"\",\n        \"description\": \"\"\n      }\n    },\n    {\n      \"column\": \"XGBoost (After Tuning)\",\n      \"properties\": {\n        \"dtype\": \"string\",\n        \"num_unique_values\": 4,\n        \"samples\": [\n          \"0.60\",\n          \"0.80\",\n          \"74.99%\"\n        ],\n        \"semantic_type\": \"\",\n        \"description\": \"\"\n      }\n    }\n  ]\n}"
            }
          },
          "metadata": {}
        }
      ]
    },
    {
      "cell_type": "markdown",
      "source": [
        "\n",
        "\n",
        "1.   Random Forest showed good recall but slightly overfit\n",
        "\n",
        "2.   XGBoost (with SMOTE) had better balance between precision and recall\n",
        "\n",
        "3.   After hyperparameter tuning, XGBoost improved in overall fit and generalization\n",
        "\n",
        "4.   All models had similar AUC and precision-recall, but XGBoost with tuning is more customizable and interpretable (via feature importances).\n",
        "\n",
        "\n",
        "\n"
      ],
      "metadata": {
        "id": "wrfIBZtqI0R_"
      }
    },
    {
      "cell_type": "code",
      "source": [],
      "metadata": {
        "id": "21vC6t-RDJQt"
      },
      "execution_count": null,
      "outputs": []
    },
    {
      "cell_type": "markdown",
      "source": [
        "Final Model Chosen:"
      ],
      "metadata": {
        "id": "P-i955V8Jbrv"
      }
    },
    {
      "cell_type": "markdown",
      "source": [
        "XGBoost (After SMOTE + Tuning) for its better interpretability, tunability, and overall balanced metrics."
      ],
      "metadata": {
        "id": "QTxuT2o4JeDD"
      }
    },
    {
      "cell_type": "code",
      "execution_count": null,
      "metadata": {
        "id": "jH9vsekDUbcj"
      },
      "outputs": [],
      "source": []
    },
    {
      "cell_type": "markdown",
      "source": [
        "Conclusion"
      ],
      "metadata": {
        "id": "xwG-JJctLMle"
      }
    },
    {
      "cell_type": "markdown",
      "source": [
        "In this project, I conducted a comprehensive Credit Risk Analysis using machine learning techniques on a dataset containing over 1 million records. I explored two classification models — Random Forest and XGBoost — and applied SMOTE to address class imbalance. Feature importance analysis using XGBoost helped in identifying the top 30 most influential variables for predicting loan approval.\n",
        "\n",
        "Hyperparameter tuning further improved the XGBoost model’s performance, achieving an AUC of 0.80 and an average precision of 0.60. Evaluation metrics such as confusion matrix, ROC curve, and precision-recall curve were used to assess model performance in depth.\n",
        "\n",
        "This project demonstrates the practical application of machine learning and data preprocessing techniques in the financial domain, providing a robust framework for predicting credit risk and aiding in informed loan approval decisions."
      ],
      "metadata": {
        "id": "MpiIcWrULuyK"
      }
    }
  ],
  "metadata": {
    "colab": {
      "provenance": []
    },
    "kernelspec": {
      "display_name": "Python 3",
      "name": "python3"
    },
    "language_info": {
      "name": "python"
    }
  },
  "nbformat": 4,
  "nbformat_minor": 0
}